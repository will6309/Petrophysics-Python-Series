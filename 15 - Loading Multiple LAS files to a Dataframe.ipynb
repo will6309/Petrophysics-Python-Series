{
 "cells": [
  {
   "cell_type": "markdown",
   "metadata": {},
   "source": [
    "# 15 - Loading Multiple Well Log LAS Files Using Python\n",
    "  \n",
    "**Created By:** Andy McDonald  \n",
    "**Link to Article:** https://andymcdonaldgeo.medium.com/loading-multiple-well-log-las-files-using-python-39ac35de99dd"
   ]
  },
  {
   "cell_type": "markdown",
   "metadata": {},
   "source": [
    "Log ASCII Standard (LAS) files are a common Oil & Gas industry format for storing and transferring well log data. The data contained within is used to analyze and understand the subsurface, as well as identify potential hydrocarbon reserves. In my previous article: Loading and Displaying Well Log Data, I covered how to load a single LAS file using the LASIO library.\n",
    "\n",
    "In this article, I expand upon that by showing how to load multiple las files from a subfolder into a single pandas dataframe. Doing this allows us to work with data from multiple wells and visualize the data quickly using matplotlib. It also allows us to prepare the data in a single format that is suitable for running through Machine Learning algorithms.\n",
    "\n",
    "This notebook forms part of my Python & Petrophysics series. The full series can be found here. For the examples below you can find my Jupyter Notebook and dataset on my GitHub repository at the following link."
   ]
  },
  {
   "cell_type": "markdown",
   "metadata": {},
   "source": [
    "## Setting up the Libraries\n",
    "The first step is to bring in the libraries we will be working with. We will be using five libraries: pandas, matplotlib, seaborn, os, and lasio. \n",
    "\n",
    "Pandas, os and lasio will be used to load and store our data, whereas matplotlib and seaborn will allow us to visualize the contents of the wells."
   ]
  },
  {
   "cell_type": "code",
   "execution_count": 1,
   "metadata": {},
   "outputs": [],
   "source": [
    "# Libraries for data loading\n",
    "import lasio\n",
    "import pandas as pd\n",
    "import os\n",
    "\n",
    "# Libraries for data visualization:\n",
    "import matplotlib.pyplot as plt\n",
    "import seaborn as sns"
   ]
  },
  {
   "cell_type": "markdown",
   "metadata": {},
   "source": [
    "Next we are going setup an empty list which will hold all of our las file names.\n",
    "\n",
    "Secondly, in this example we have our files stored within a sub folder called `Data/15-LASFiles/`. This will change depending on where your files are stored."
   ]
  },
  {
   "cell_type": "code",
   "execution_count": 22,
   "metadata": {},
   "outputs": [],
   "source": [
    "# Read the Files\n",
    "\n",
    "las_file_list = []\n",
    "path = '/users/kai/desktop/data_science/data/dongara'"
   ]
  },
  {
   "cell_type": "markdown",
   "metadata": {},
   "source": [
    "We can now use the `os.listdir` method and pass in the file path. When we run this code, we will be able to see a list of all the files in the data folder."
   ]
  },
  {
   "cell_type": "code",
   "execution_count": 23,
   "metadata": {},
   "outputs": [
    {
     "data": {
      "text/plain": [
       "['DONGARA_28_file003.las',\n",
       " 'DONGARA_27_file004.csv',\n",
       " 'DONGARA_28_file002.las',\n",
       " 'DONGARA_27_file003.csv',\n",
       " 'DONGARA_27_file002.csv',\n",
       " 'DONGARA_28_file004.las',\n",
       " 'DONGARA_28_file004.csv',\n",
       " 'DONGARA_27_file002.las',\n",
       " 'DONGARA_27_file003.las',\n",
       " 'DONGARA_28_file002.csv',\n",
       " 'DONGARA_27_file004.las',\n",
       " 'DONGARA_28_file003.csv',\n",
       " 'dongara_25.las',\n",
       " 'dongara_24.las',\n",
       " 'DONGARA_26_file002.csv',\n",
       " 'DONGARA_26_file003.csv',\n",
       " 'dongara_23.las',\n",
       " 'dongara_22.las',\n",
       " 'dongara_20.las',\n",
       " 'dongara_21.las',\n",
       " 'dongara_21.csv',\n",
       " 'dongara_20.csv',\n",
       " 'dongara_22.csv',\n",
       " 'dongara_23.csv',\n",
       " 'DONGARA_26_file003.las',\n",
       " 'DONGARA_26_file002.las',\n",
       " 'dongara_24.csv',\n",
       " 'dongara_25.csv']"
      ]
     },
     "execution_count": 23,
     "metadata": {},
     "output_type": "execute_result"
    }
   ],
   "source": [
    "# View contents of the path, we will see LAS files plus an ASCII file\n",
    "files = os.listdir(path)\n",
    "files"
   ]
  },
  {
   "cell_type": "markdown",
   "metadata": {},
   "source": [
    "From this code, we get a list of four LAS files and one ASCII file in the data folder. It may be the case that you have your LAS files mixed in with others files. In the next section we will see how to select only the LAS files."
   ]
  },
  {
   "cell_type": "markdown",
   "metadata": {},
   "source": [
    "## Reading the LAS Files\n",
    "\n",
    "As you can see above, we have returned 4 LAS files and 1 ASC file. As we are only interested in the LAS files we need to loop through each file and check if the extension is .las. Also, to catch any cases where the extension is capitalized (.LAS instead of .las), we need to call upon `.lower()` to convert the file extension string to lowercase characters. \n",
    " \n",
    "Once we have identified if the file ends with .las, we can then add the path ('Data/15-LASFiles/') to the file name. This is required for lasio to pick up the files correctly. If we only passed the file name, the reader would be looking in the same directory as the script or notebook, and would fail as a result."
   ]
  },
  {
   "cell_type": "code",
   "execution_count": 24,
   "metadata": {},
   "outputs": [
    {
     "data": {
      "text/plain": [
       "['/users/kai/desktop/data_science/data/dongara/DONGARA_28_file003.las',\n",
       " '/users/kai/desktop/data_science/data/dongara/DONGARA_28_file002.las',\n",
       " '/users/kai/desktop/data_science/data/dongara/DONGARA_28_file004.las',\n",
       " '/users/kai/desktop/data_science/data/dongara/DONGARA_27_file002.las',\n",
       " '/users/kai/desktop/data_science/data/dongara/DONGARA_27_file003.las',\n",
       " '/users/kai/desktop/data_science/data/dongara/DONGARA_27_file004.las',\n",
       " '/users/kai/desktop/data_science/data/dongara/dongara_25.las',\n",
       " '/users/kai/desktop/data_science/data/dongara/dongara_24.las',\n",
       " '/users/kai/desktop/data_science/data/dongara/dongara_23.las',\n",
       " '/users/kai/desktop/data_science/data/dongara/dongara_22.las',\n",
       " '/users/kai/desktop/data_science/data/dongara/dongara_20.las',\n",
       " '/users/kai/desktop/data_science/data/dongara/dongara_21.las',\n",
       " '/users/kai/desktop/data_science/data/dongara/DONGARA_26_file003.las',\n",
       " '/users/kai/desktop/data_science/data/dongara/DONGARA_26_file002.las']"
      ]
     },
     "execution_count": 24,
     "metadata": {},
     "output_type": "execute_result"
    }
   ],
   "source": [
    "for file in files:\n",
    "    if file.lower().endswith('.las'):\n",
    "        file_path = os.path.join(path,file)\n",
    "        las_file_list.append(file_path)\n",
    "        \n",
    "las_file_list"
   ]
  },
  {
   "cell_type": "markdown",
   "metadata": {},
   "source": [
    "When we call the las_file_list we can see the full path for each of the 4 LAS files."
   ]
  },
  {
   "cell_type": "markdown",
   "metadata": {},
   "source": [
    "## Appending the LAS Files to a Dataframe\n",
    "\n",
    "There are a number of different ways to concatenate and / or append data to dataframes. In this article we will use a simple method of create a list of dataframes, which we will concatenate together.\n",
    "First, we will create an empty list using `df_list=[]`. Then secondly, we will loop through the las_file_list, read the file and convert it to a dataframe.\n",
    "\n",
    "It is useful for us to to know where the data originated. If we didn't retain this information, we would end up with a dataframe full of data with no information about it's origins. To do this, we can create a new column and assign the well name value:  `lasdf['WELL']=las.well.WELL.value`. This will make it easy to work with the data later on.\n",
    "\n",
    "Additionally, as lasio sets the dataframe index to the depth value from the file, we can create an additional column called DEPTH."
   ]
  },
  {
   "cell_type": "code",
   "execution_count": 25,
   "metadata": {},
   "outputs": [],
   "source": [
    "df_list = []\n",
    "\n",
    "for lasfile in las_file_list:\n",
    "    las = lasio.read(lasfile)\n",
    "    lasdf = las.df()\n",
    "    \n",
    "    lasdf['WELL'] = las.well.WELL.value\n",
    "    lasdf['DEPTH'] = lasdf.index\n",
    "    df_list.append(lasdf)\n"
   ]
  },
  {
   "cell_type": "markdown",
   "metadata": {},
   "source": [
    "We will now create a working dataframe containing all of the data from the LAS files by concatenating the list objects."
   ]
  },
  {
   "cell_type": "code",
   "execution_count": 26,
   "metadata": {},
   "outputs": [],
   "source": [
    "workingdf = pd.concat(df_list, sort=True)"
   ]
  },
  {
   "cell_type": "markdown",
   "metadata": {},
   "source": [
    "When we call upon the working dataframe, we can see that we have our data from multiple wells in the same dataframe."
   ]
  },
  {
   "cell_type": "code",
   "execution_count": 29,
   "metadata": {},
   "outputs": [
    {
     "data": {
      "text/html": [
       "<div>\n",
       "<style scoped>\n",
       "    .dataframe tbody tr th:only-of-type {\n",
       "        vertical-align: middle;\n",
       "    }\n",
       "\n",
       "    .dataframe tbody tr th {\n",
       "        vertical-align: top;\n",
       "    }\n",
       "\n",
       "    .dataframe thead th {\n",
       "        text-align: right;\n",
       "    }\n",
       "</style>\n",
       "<table border=\"1\" class=\"dataframe\">\n",
       "  <thead>\n",
       "    <tr style=\"text-align: right;\">\n",
       "      <th></th>\n",
       "      <th>AMPL</th>\n",
       "      <th>AMTE</th>\n",
       "      <th>BS</th>\n",
       "      <th>CAL2</th>\n",
       "      <th>CALI</th>\n",
       "      <th>CALS</th>\n",
       "      <th>CFTC</th>\n",
       "      <th>CGR</th>\n",
       "      <th>CLLD</th>\n",
       "      <th>CNTC</th>\n",
       "      <th>...</th>\n",
       "      <th>TT3</th>\n",
       "      <th>TT4</th>\n",
       "      <th>UR</th>\n",
       "      <th>URAN</th>\n",
       "      <th>W1NG</th>\n",
       "      <th>W2NG</th>\n",
       "      <th>W3NG</th>\n",
       "      <th>W4NG</th>\n",
       "      <th>W5NG</th>\n",
       "      <th>WELL</th>\n",
       "    </tr>\n",
       "  </thead>\n",
       "  <tbody>\n",
       "    <tr>\n",
       "      <th>1616.9640</th>\n",
       "      <td>NaN</td>\n",
       "      <td>NaN</td>\n",
       "      <td>NaN</td>\n",
       "      <td>NaN</td>\n",
       "      <td>NaN</td>\n",
       "      <td>NaN</td>\n",
       "      <td>NaN</td>\n",
       "      <td>NaN</td>\n",
       "      <td>NaN</td>\n",
       "      <td>NaN</td>\n",
       "      <td>...</td>\n",
       "      <td>NaN</td>\n",
       "      <td>NaN</td>\n",
       "      <td>NaN</td>\n",
       "      <td>NaN</td>\n",
       "      <td>NaN</td>\n",
       "      <td>NaN</td>\n",
       "      <td>NaN</td>\n",
       "      <td>NaN</td>\n",
       "      <td>NaN</td>\n",
       "      <td>Dongara 28</td>\n",
       "    </tr>\n",
       "    <tr>\n",
       "      <th>1617.0148</th>\n",
       "      <td>NaN</td>\n",
       "      <td>NaN</td>\n",
       "      <td>NaN</td>\n",
       "      <td>NaN</td>\n",
       "      <td>NaN</td>\n",
       "      <td>NaN</td>\n",
       "      <td>NaN</td>\n",
       "      <td>NaN</td>\n",
       "      <td>NaN</td>\n",
       "      <td>NaN</td>\n",
       "      <td>...</td>\n",
       "      <td>NaN</td>\n",
       "      <td>NaN</td>\n",
       "      <td>NaN</td>\n",
       "      <td>NaN</td>\n",
       "      <td>NaN</td>\n",
       "      <td>NaN</td>\n",
       "      <td>NaN</td>\n",
       "      <td>NaN</td>\n",
       "      <td>NaN</td>\n",
       "      <td>Dongara 28</td>\n",
       "    </tr>\n",
       "    <tr>\n",
       "      <th>1617.0656</th>\n",
       "      <td>NaN</td>\n",
       "      <td>NaN</td>\n",
       "      <td>NaN</td>\n",
       "      <td>NaN</td>\n",
       "      <td>NaN</td>\n",
       "      <td>NaN</td>\n",
       "      <td>NaN</td>\n",
       "      <td>NaN</td>\n",
       "      <td>NaN</td>\n",
       "      <td>NaN</td>\n",
       "      <td>...</td>\n",
       "      <td>NaN</td>\n",
       "      <td>NaN</td>\n",
       "      <td>NaN</td>\n",
       "      <td>NaN</td>\n",
       "      <td>NaN</td>\n",
       "      <td>NaN</td>\n",
       "      <td>NaN</td>\n",
       "      <td>NaN</td>\n",
       "      <td>NaN</td>\n",
       "      <td>Dongara 28</td>\n",
       "    </tr>\n",
       "    <tr>\n",
       "      <th>1617.1164</th>\n",
       "      <td>NaN</td>\n",
       "      <td>73.31</td>\n",
       "      <td>8.5</td>\n",
       "      <td>NaN</td>\n",
       "      <td>8.508</td>\n",
       "      <td>8.883</td>\n",
       "      <td>870.0264</td>\n",
       "      <td>171.0041</td>\n",
       "      <td>82.75</td>\n",
       "      <td>2376.093</td>\n",
       "      <td>...</td>\n",
       "      <td>672.0</td>\n",
       "      <td>514.7999</td>\n",
       "      <td>NaN</td>\n",
       "      <td>1.3473</td>\n",
       "      <td>417.5992</td>\n",
       "      <td>150.0508</td>\n",
       "      <td>49.8474</td>\n",
       "      <td>8.647</td>\n",
       "      <td>10.6816</td>\n",
       "      <td>Dongara 28</td>\n",
       "    </tr>\n",
       "    <tr>\n",
       "      <th>1617.1672</th>\n",
       "      <td>NaN</td>\n",
       "      <td>NaN</td>\n",
       "      <td>NaN</td>\n",
       "      <td>NaN</td>\n",
       "      <td>NaN</td>\n",
       "      <td>NaN</td>\n",
       "      <td>NaN</td>\n",
       "      <td>NaN</td>\n",
       "      <td>NaN</td>\n",
       "      <td>NaN</td>\n",
       "      <td>...</td>\n",
       "      <td>NaN</td>\n",
       "      <td>NaN</td>\n",
       "      <td>NaN</td>\n",
       "      <td>NaN</td>\n",
       "      <td>NaN</td>\n",
       "      <td>NaN</td>\n",
       "      <td>NaN</td>\n",
       "      <td>NaN</td>\n",
       "      <td>NaN</td>\n",
       "      <td>Dongara 28</td>\n",
       "    </tr>\n",
       "    <tr>\n",
       "      <th>...</th>\n",
       "      <td>...</td>\n",
       "      <td>...</td>\n",
       "      <td>...</td>\n",
       "      <td>...</td>\n",
       "      <td>...</td>\n",
       "      <td>...</td>\n",
       "      <td>...</td>\n",
       "      <td>...</td>\n",
       "      <td>...</td>\n",
       "      <td>...</td>\n",
       "      <td>...</td>\n",
       "      <td>...</td>\n",
       "      <td>...</td>\n",
       "      <td>...</td>\n",
       "      <td>...</td>\n",
       "      <td>...</td>\n",
       "      <td>...</td>\n",
       "      <td>...</td>\n",
       "      <td>...</td>\n",
       "      <td>...</td>\n",
       "      <td>...</td>\n",
       "    </tr>\n",
       "    <tr>\n",
       "      <th>1832.2080</th>\n",
       "      <td>93.5</td>\n",
       "      <td>NaN</td>\n",
       "      <td>NaN</td>\n",
       "      <td>NaN</td>\n",
       "      <td>0.000</td>\n",
       "      <td>NaN</td>\n",
       "      <td>NaN</td>\n",
       "      <td>NaN</td>\n",
       "      <td>NaN</td>\n",
       "      <td>NaN</td>\n",
       "      <td>...</td>\n",
       "      <td>0.0</td>\n",
       "      <td>0.0000</td>\n",
       "      <td>NaN</td>\n",
       "      <td>NaN</td>\n",
       "      <td>NaN</td>\n",
       "      <td>NaN</td>\n",
       "      <td>NaN</td>\n",
       "      <td>NaN</td>\n",
       "      <td>NaN</td>\n",
       "      <td>DONGARA # 26</td>\n",
       "    </tr>\n",
       "    <tr>\n",
       "      <th>1832.3600</th>\n",
       "      <td>92.3</td>\n",
       "      <td>NaN</td>\n",
       "      <td>NaN</td>\n",
       "      <td>NaN</td>\n",
       "      <td>0.000</td>\n",
       "      <td>NaN</td>\n",
       "      <td>NaN</td>\n",
       "      <td>NaN</td>\n",
       "      <td>NaN</td>\n",
       "      <td>NaN</td>\n",
       "      <td>...</td>\n",
       "      <td>0.0</td>\n",
       "      <td>0.0000</td>\n",
       "      <td>NaN</td>\n",
       "      <td>NaN</td>\n",
       "      <td>NaN</td>\n",
       "      <td>NaN</td>\n",
       "      <td>NaN</td>\n",
       "      <td>NaN</td>\n",
       "      <td>NaN</td>\n",
       "      <td>DONGARA # 26</td>\n",
       "    </tr>\n",
       "    <tr>\n",
       "      <th>1832.5120</th>\n",
       "      <td>91.2</td>\n",
       "      <td>NaN</td>\n",
       "      <td>NaN</td>\n",
       "      <td>NaN</td>\n",
       "      <td>0.000</td>\n",
       "      <td>NaN</td>\n",
       "      <td>NaN</td>\n",
       "      <td>NaN</td>\n",
       "      <td>NaN</td>\n",
       "      <td>NaN</td>\n",
       "      <td>...</td>\n",
       "      <td>0.0</td>\n",
       "      <td>0.0000</td>\n",
       "      <td>NaN</td>\n",
       "      <td>NaN</td>\n",
       "      <td>NaN</td>\n",
       "      <td>NaN</td>\n",
       "      <td>NaN</td>\n",
       "      <td>NaN</td>\n",
       "      <td>NaN</td>\n",
       "      <td>DONGARA # 26</td>\n",
       "    </tr>\n",
       "    <tr>\n",
       "      <th>1832.6640</th>\n",
       "      <td>93.8</td>\n",
       "      <td>NaN</td>\n",
       "      <td>NaN</td>\n",
       "      <td>NaN</td>\n",
       "      <td>0.000</td>\n",
       "      <td>NaN</td>\n",
       "      <td>NaN</td>\n",
       "      <td>NaN</td>\n",
       "      <td>NaN</td>\n",
       "      <td>NaN</td>\n",
       "      <td>...</td>\n",
       "      <td>0.0</td>\n",
       "      <td>0.0000</td>\n",
       "      <td>NaN</td>\n",
       "      <td>NaN</td>\n",
       "      <td>NaN</td>\n",
       "      <td>NaN</td>\n",
       "      <td>NaN</td>\n",
       "      <td>NaN</td>\n",
       "      <td>NaN</td>\n",
       "      <td>DONGARA # 26</td>\n",
       "    </tr>\n",
       "    <tr>\n",
       "      <th>1832.8160</th>\n",
       "      <td>98.7</td>\n",
       "      <td>NaN</td>\n",
       "      <td>NaN</td>\n",
       "      <td>NaN</td>\n",
       "      <td>0.000</td>\n",
       "      <td>NaN</td>\n",
       "      <td>NaN</td>\n",
       "      <td>NaN</td>\n",
       "      <td>NaN</td>\n",
       "      <td>NaN</td>\n",
       "      <td>...</td>\n",
       "      <td>0.0</td>\n",
       "      <td>0.0000</td>\n",
       "      <td>NaN</td>\n",
       "      <td>NaN</td>\n",
       "      <td>NaN</td>\n",
       "      <td>NaN</td>\n",
       "      <td>NaN</td>\n",
       "      <td>NaN</td>\n",
       "      <td>NaN</td>\n",
       "      <td>DONGARA # 26</td>\n",
       "    </tr>\n",
       "  </tbody>\n",
       "</table>\n",
       "<p>118520 rows × 164 columns</p>\n",
       "</div>"
      ],
      "text/plain": [
       "           AMPL   AMTE   BS  CAL2   CALI   CALS      CFTC       CGR   CLLD  \\\n",
       "1616.9640   NaN    NaN  NaN   NaN    NaN    NaN       NaN       NaN    NaN   \n",
       "1617.0148   NaN    NaN  NaN   NaN    NaN    NaN       NaN       NaN    NaN   \n",
       "1617.0656   NaN    NaN  NaN   NaN    NaN    NaN       NaN       NaN    NaN   \n",
       "1617.1164   NaN  73.31  8.5   NaN  8.508  8.883  870.0264  171.0041  82.75   \n",
       "1617.1672   NaN    NaN  NaN   NaN    NaN    NaN       NaN       NaN    NaN   \n",
       "...         ...    ...  ...   ...    ...    ...       ...       ...    ...   \n",
       "1832.2080  93.5    NaN  NaN   NaN  0.000    NaN       NaN       NaN    NaN   \n",
       "1832.3600  92.3    NaN  NaN   NaN  0.000    NaN       NaN       NaN    NaN   \n",
       "1832.5120  91.2    NaN  NaN   NaN  0.000    NaN       NaN       NaN    NaN   \n",
       "1832.6640  93.8    NaN  NaN   NaN  0.000    NaN       NaN       NaN    NaN   \n",
       "1832.8160  98.7    NaN  NaN   NaN  0.000    NaN       NaN       NaN    NaN   \n",
       "\n",
       "               CNTC  ...    TT3       TT4  UR    URAN      W1NG      W2NG  \\\n",
       "1616.9640       NaN  ...    NaN       NaN NaN     NaN       NaN       NaN   \n",
       "1617.0148       NaN  ...    NaN       NaN NaN     NaN       NaN       NaN   \n",
       "1617.0656       NaN  ...    NaN       NaN NaN     NaN       NaN       NaN   \n",
       "1617.1164  2376.093  ...  672.0  514.7999 NaN  1.3473  417.5992  150.0508   \n",
       "1617.1672       NaN  ...    NaN       NaN NaN     NaN       NaN       NaN   \n",
       "...             ...  ...    ...       ...  ..     ...       ...       ...   \n",
       "1832.2080       NaN  ...    0.0    0.0000 NaN     NaN       NaN       NaN   \n",
       "1832.3600       NaN  ...    0.0    0.0000 NaN     NaN       NaN       NaN   \n",
       "1832.5120       NaN  ...    0.0    0.0000 NaN     NaN       NaN       NaN   \n",
       "1832.6640       NaN  ...    0.0    0.0000 NaN     NaN       NaN       NaN   \n",
       "1832.8160       NaN  ...    0.0    0.0000 NaN     NaN       NaN       NaN   \n",
       "\n",
       "              W3NG   W4NG     W5NG          WELL  \n",
       "1616.9640      NaN    NaN      NaN    Dongara 28  \n",
       "1617.0148      NaN    NaN      NaN    Dongara 28  \n",
       "1617.0656      NaN    NaN      NaN    Dongara 28  \n",
       "1617.1164  49.8474  8.647  10.6816    Dongara 28  \n",
       "1617.1672      NaN    NaN      NaN    Dongara 28  \n",
       "...            ...    ...      ...           ...  \n",
       "1832.2080      NaN    NaN      NaN  DONGARA # 26  \n",
       "1832.3600      NaN    NaN      NaN  DONGARA # 26  \n",
       "1832.5120      NaN    NaN      NaN  DONGARA # 26  \n",
       "1832.6640      NaN    NaN      NaN  DONGARA # 26  \n",
       "1832.8160      NaN    NaN      NaN  DONGARA # 26  \n",
       "\n",
       "[118520 rows x 164 columns]"
      ]
     },
     "execution_count": 29,
     "metadata": {},
     "output_type": "execute_result"
    }
   ],
   "source": [
    "workingdf"
   ]
  },
  {
   "cell_type": "code",
   "execution_count": 39,
   "metadata": {},
   "outputs": [
    {
     "data": {
      "text/plain": [
       "AMPL    float64\n",
       "AMTE    float64\n",
       "BS      float64\n",
       "CAL2    float64\n",
       "CALI    float64\n",
       "         ...   \n",
       "W2NG    float64\n",
       "W3NG    float64\n",
       "W4NG    float64\n",
       "W5NG    float64\n",
       "WELL     object\n",
       "Length: 164, dtype: object"
      ]
     },
     "execution_count": 39,
     "metadata": {},
     "output_type": "execute_result"
    }
   ],
   "source": [
    "workingdf.dtypes"
   ]
  },
  {
   "cell_type": "markdown",
   "metadata": {},
   "source": [
    "We can also confirm that we have all the wells loaded by checking for the unique values within the well column:"
   ]
  },
  {
   "cell_type": "code",
   "execution_count": 30,
   "metadata": {},
   "outputs": [
    {
     "data": {
      "text/plain": [
       "array(['Dongara 28', 'DONGARA #27', 'DONGARA # 27', 'DONGARA 25',\n",
       "       'DONGARA 24', 'DONGARA 23', 'DONGARA 22', 'DONGARA 20',\n",
       "       'DONGARA 21', 'DONGARA # 26'], dtype=object)"
      ]
     },
     "execution_count": 30,
     "metadata": {},
     "output_type": "execute_result"
    }
   ],
   "source": [
    "workingdf['WELL'].unique()"
   ]
  },
  {
   "cell_type": "code",
   "execution_count": 37,
   "metadata": {},
   "outputs": [
    {
     "name": "stdout",
     "output_type": "stream",
     "text": [
      "           AMPL  AMTE  BS  CAL2  CALI  CALS  CFTC  CGR  CLLD  CNTC  ...  \\\n",
      "1595.3025  78.3   NaN NaN   NaN  8.41   NaN   NaN  NaN   NaN   NaN  ...   \n",
      "1595.4550  79.1   NaN NaN   NaN  8.42   NaN   NaN  NaN   NaN   NaN  ...   \n",
      "1595.6075  79.3   NaN NaN   NaN  8.40   NaN   NaN  NaN   NaN   NaN  ...   \n",
      "1595.7600  77.8   NaN NaN   NaN  8.39   NaN   NaN  NaN   NaN   NaN  ...   \n",
      "1595.9125  77.7   NaN NaN   NaN  8.38   NaN   NaN  NaN   NaN   NaN  ...   \n",
      "...         ...   ...  ..   ...   ...   ...   ...  ...   ...   ...  ...   \n",
      "1734.9925   NaN   NaN NaN  -0.3  7.66   NaN   NaN  NaN   NaN   NaN  ...   \n",
      "1735.1450   NaN   NaN NaN  -0.3  7.66   NaN   NaN  NaN   NaN   NaN  ...   \n",
      "1735.2975   NaN   NaN NaN  -0.3  0.00   NaN   NaN  NaN   NaN   NaN  ...   \n",
      "1735.4500   NaN   NaN NaN  -0.3  0.00   NaN   NaN  NaN   NaN   NaN  ...   \n",
      "1735.6025   NaN   NaN NaN   NaN   NaN   NaN   NaN  NaN   NaN   NaN  ...   \n",
      "\n",
      "             TT3    TT4  UR  URAN  W1NG  W2NG  W3NG  W4NG  W5NG         WELL  \n",
      "1595.3025  488.0  482.0 NaN   NaN   NaN   NaN   NaN   NaN   NaN  DONGARA #27  \n",
      "1595.4550  485.0  482.0 NaN   NaN   NaN   NaN   NaN   NaN   NaN  DONGARA #27  \n",
      "1595.6075  485.0  482.0 NaN   NaN   NaN   NaN   NaN   NaN   NaN  DONGARA #27  \n",
      "1595.7600  489.0  483.0 NaN   NaN   NaN   NaN   NaN   NaN   NaN  DONGARA #27  \n",
      "1595.9125  496.0  490.0 NaN   NaN   NaN   NaN   NaN   NaN   NaN  DONGARA #27  \n",
      "...          ...    ...  ..   ...   ...   ...   ...   ...   ...          ...  \n",
      "1734.9925    NaN    NaN NaN   NaN   NaN   NaN   NaN   NaN   NaN  DONGARA #27  \n",
      "1735.1450    NaN    NaN NaN   NaN   NaN   NaN   NaN   NaN   NaN  DONGARA #27  \n",
      "1735.2975    NaN    NaN NaN   NaN   NaN   NaN   NaN   NaN   NaN  DONGARA #27  \n",
      "1735.4500    NaN    NaN NaN   NaN   NaN   NaN   NaN   NaN   NaN  DONGARA #27  \n",
      "1735.6025    NaN    NaN NaN   NaN   NaN   NaN   NaN   NaN   NaN  DONGARA #27  \n",
      "\n",
      "[1842 rows x 164 columns]\n"
     ]
    }
   ],
   "source": [
    "df_don27 = workingdf.loc[workingdf['WELL'] =='DONGARA #27']\n",
    "print(df_don27)\n"
   ]
  },
  {
   "cell_type": "code",
   "execution_count": 54,
   "metadata": {},
   "outputs": [
    {
     "data": {
      "text/plain": [
       "AMPL    float64\n",
       "AMTE    float64\n",
       "BS      float64\n",
       "CAL2    float64\n",
       "CALI    float64\n",
       "         ...   \n",
       "W2NG    float64\n",
       "W3NG    float64\n",
       "W4NG    float64\n",
       "W5NG    float64\n",
       "WELL     object\n",
       "Length: 164, dtype: object"
      ]
     },
     "execution_count": 54,
     "metadata": {},
     "output_type": "execute_result"
    }
   ],
   "source": [
    "workingdf.dtypes"
   ]
  },
  {
   "cell_type": "code",
   "execution_count": 56,
   "metadata": {},
   "outputs": [
    {
     "data": {
      "text/plain": [
       "1616.9640      Dongara 28\n",
       "1617.0148      Dongara 28\n",
       "1617.0656      Dongara 28\n",
       "1617.1164      Dongara 28\n",
       "1617.1672      Dongara 28\n",
       "                 ...     \n",
       "1832.2080    DONGARA # 26\n",
       "1832.3600    DONGARA # 26\n",
       "1832.5120    DONGARA # 26\n",
       "1832.6640    DONGARA # 26\n",
       "1832.8160    DONGARA # 26\n",
       "Name: WELL, Length: 118520, dtype: object"
      ]
     },
     "execution_count": 56,
     "metadata": {},
     "output_type": "execute_result"
    }
   ],
   "source": [
    "workingdf['WELL'].str.replace('DONGARA #27', 'DONGARA # 27')"
   ]
  },
  {
   "cell_type": "code",
   "execution_count": 60,
   "metadata": {},
   "outputs": [
    {
     "data": {
      "text/plain": [
       "1616.9640    DONGARA # 28\n",
       "1617.0148    DONGARA # 28\n",
       "1617.0656    DONGARA # 28\n",
       "1617.1164    DONGARA # 28\n",
       "1617.1672    DONGARA # 28\n",
       "                 ...     \n",
       "1832.2080    DONGARA # 26\n",
       "1832.3600    DONGARA # 26\n",
       "1832.5120    DONGARA # 26\n",
       "1832.6640    DONGARA # 26\n",
       "1832.8160    DONGARA # 26\n",
       "Name: WELL, Length: 118520, dtype: object"
      ]
     },
     "execution_count": 60,
     "metadata": {},
     "output_type": "execute_result"
    }
   ],
   "source": [
    "workingdf['WELL'].str.replace('Dongara 28', 'DONGARA # 28')"
   ]
  },
  {
   "cell_type": "code",
   "execution_count": 61,
   "metadata": {},
   "outputs": [
    {
     "data": {
      "text/plain": [
       "array(['Dongara 28', 'DONGARA #27', 'DONGARA # 27', 'DONGARA 25',\n",
       "       'DONGARA 24', 'DONGARA 23', 'DONGARA 22', 'DONGARA 20',\n",
       "       'DONGARA 21', 'DONGARA # 26'], dtype=object)"
      ]
     },
     "execution_count": 61,
     "metadata": {},
     "output_type": "execute_result"
    }
   ],
   "source": [
    "workingdf['WELL'].unique()"
   ]
  },
  {
   "cell_type": "markdown",
   "metadata": {},
   "source": [
    "## Making Quick Data Visualizations\n",
    "Now that we have our data loaded into a pandas dataframe object, we can create some simple and quick multi-plots to gain insight into our data. We will do this using crossplot/scatterplots, a boxplot and a Kernel Density Estimate (KDE) plot.  \n",
    "\n",
    "To start this, we first need to group our dataframe by the well name using the following:"
   ]
  },
  {
   "cell_type": "code",
   "execution_count": 62,
   "metadata": {},
   "outputs": [],
   "source": [
    "grouped = workingdf.groupby('WELL')"
   ]
  },
  {
   "cell_type": "markdown",
   "metadata": {},
   "source": [
    "### Crossplot / Scatterplots Per Well\n",
    "\n",
    "Crossplots (also known as scatterplots) are used to plot one variable against another. For this example we will use a neutron porosity vs bulk density crossplot, which is a very common plot used in petrophysics.\n",
    "\n",
    "Using a similar piece of code that was previously mentioned on my Exploratory Data Analysis With Well Log Data article, we can loop through each of the groups in the dataframe and generate a crossplot (scatter plot) of neutron porosity (NPHI) vs bulk density (RHOB)."
   ]
  },
  {
   "cell_type": "code",
   "execution_count": 66,
   "metadata": {},
   "outputs": [
    {
     "data": {
      "image/png": "[encoded data removed]",
      "text/plain": [
       "<Figure size 720x720 with 8 Axes>"
      ]
     },
     "metadata": {
      "needs_background": "light"
     },
     "output_type": "display_data"
    }
   ],
   "source": [
    "fig, axs = plt.subplots(2, 2, figsize=(10,10))\n",
    "\n",
    "for (name, df), ax in zip(grouped, axs.flat):\n",
    "    df.plot(kind='scatter', x='NPHI', y='RHOB', ax=ax, c='GR', cmap='jet', vmin=0, vmax=150)\n",
    "    ax.set_xlim(-0.15,1)\n",
    "    ax.set_ylim(3,1)\n",
    "    ax.set_title(name)\n",
    "    ax.grid(True)\n",
    "    ax.set_axisbelow(True)\n",
    "plt.tight_layout()"
   ]
  },
  {
   "cell_type": "markdown",
   "metadata": {},
   "source": [
    "### Boxplot of Gamma Ray Per Well\n",
    "Next up, we will display a boxplot of the gamma ray cuvre from all wells. The box plot will show us the extent of the data (minimum to maximum), the quartiles, and the median value of the data.\n",
    "\n",
    "This can be achieved using a single line of code in the seaborn library. In the arguments we can pass in the workingdf dataframe for data, and the WELL column for the hue. The latter of which will split the data up into individual boxes, each with it's own unique color."
   ]
  },
  {
   "cell_type": "code",
   "execution_count": 67,
   "metadata": {},
   "outputs": [
    {
     "data": {
      "text/plain": [
       "<seaborn.axisgrid.FacetGrid at 0x7f7ebb13ba58>"
      ]
     },
     "execution_count": 67,
     "metadata": {},
     "output_type": "execute_result"
    },
    {
     "data": {
      "image/png": "[encoded data removed]",
      "text/plain": [
       "<Figure size 360x360 with 1 Axes>"
      ]
     },
     "metadata": {
      "needs_background": "light"
     },
     "output_type": "display_data"
    }
   ],
   "source": [
    "sns.catplot(x='WELL', y='GR', hue='WELL', data=workingdf, kind='box')"
   ]
  },
  {
   "cell_type": "markdown",
   "metadata": {},
   "source": [
    "### Histogram (Kernel Density Estimate) \n",
    "Finally, we can view the distribution of the values of a curve in the dataframe by using a Kernel Density Estimate plot, which is similar to a histogram.\n",
    "\n",
    "Again, this example shows another way to apply the groupby function. We can tidy up the plot by calling up matplotlib functions to set the x and y limits."
   ]
  },
  {
   "cell_type": "code",
   "execution_count": 68,
   "metadata": {},
   "outputs": [
    {
     "data": {
      "text/plain": [
       "<matplotlib.legend.Legend at 0x7f7ebab06940>"
      ]
     },
     "execution_count": 68,
     "metadata": {},
     "output_type": "execute_result"
    },
    {
     "data": {
      "image/png": "[encoded data removed]",
      "text/plain": [
       "<Figure size 432x288 with 1 Axes>"
      ]
     },
     "metadata": {
      "needs_background": "light"
     },
     "output_type": "display_data"
    }
   ],
   "source": [
    "workingdf.groupby('WELL').GR.plot(kind='kde')\n",
    "plt.xlim(0,150)\n",
    "plt.ylim(0, 0.05) #ylim upper may change depending on data\n",
    "plt.legend()"
   ]
  },
  {
   "cell_type": "markdown",
   "metadata": {},
   "source": [
    "### Summary\n",
    "In this notebook we have covered how to load multiple LAS files by searching a directory for all files with a .las extension and concatenate them into a single pandas dataframe. Once we have this data in a dataframe, we can easily call upon matplotlib and seaborn to make quick and easy to understand visualizations of the data.\n",
    "\n",
    "***Thanks for reading!***\n",
    "\n",
    "*If you have found this article useful, please feel free to check out my other articles looking at various aspects of Python and well log data. You can also find my code used in this article and others at GitHub.*\n",
    "\n",
    "*If you want to get in touch you can find me on LinkedIn or at my website.*\n",
    "\n",
    "*Interested in learning more about python and well log data or petrophysics? Follow me on [Medium](https://medium.com/@andymcdonaldgeo).*"
   ]
  },
  {
   "cell_type": "code",
   "execution_count": null,
   "metadata": {},
   "outputs": [],
   "source": []
  },
  {
   "cell_type": "code",
   "execution_count": null,
   "metadata": {},
   "outputs": [],
   "source": []
  }
 ],
 "metadata": {
  "kernelspec": {
   "display_name": "Python 3 (ipykernel)",
   "language": "python",
   "name": "python3"
  },
  "language_info": {
   "codemirror_mode": {
    "name": "ipython",
    "version": 3
   },
   "file_extension": ".py",
   "mimetype": "text/x-python",
   "name": "python",
   "nbconvert_exporter": "python",
   "pygments_lexer": "ipython3",
   "version": "3.7.0"
  }
 },
 "nbformat": 4,
 "nbformat_minor": 4
}
