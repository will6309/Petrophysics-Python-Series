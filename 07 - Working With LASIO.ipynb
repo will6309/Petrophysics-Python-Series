{
 "cells": [
  {
   "cell_type": "markdown",
   "metadata": {},
   "source": [
    "# Loading and Displaying Well Log Data from LAS"
   ]
  },
  {
   "cell_type": "markdown",
   "metadata": {},
   "source": [
    "**Created by:** Andy McDonald  \n",
    "  \n",
    "This notebook illustrates how to load data in from a LAS file and carry out a basic QC of the data before plotting it on a log plot."
   ]
  },
  {
   "cell_type": "markdown",
   "metadata": {},
   "source": [
    "## Loading and Checking Data\n",
    "The first step is to import the required libraries: pandas, matplotlib and LASIO.  \n",
    "lasio is a library that has been developed to handle and work with LAS files. More info on the library can be found at: https://lasio.readthedocs.io/en/latest/"
   ]
  },
  {
   "cell_type": "code",
   "execution_count": 116,
   "metadata": {},
   "outputs": [],
   "source": [
    "import os\n",
    "import pandas as pd\n",
    "import matplotlib.pyplot as plt\n",
    "import lasio"
   ]
  },
  {
   "cell_type": "markdown",
   "metadata": {},
   "source": [
    "To load our file in, we can use the read() method from LASIO like so:"
   ]
  },
  {
   "cell_type": "code",
   "execution_count": 125,
   "metadata": {},
   "outputs": [],
   "source": [
    "root = '/users/kai/desktop/data_science/data/dongara'\n",
    "well_name = 'dongara_24'\n",
    "file_format = '.las'\n",
    "las = lasio.read(os.path.join(root,well_name+file_format))"
   ]
  },
  {
   "cell_type": "code",
   "execution_count": null,
   "metadata": {},
   "outputs": [],
   "source": []
  },
  {
   "cell_type": "markdown",
   "metadata": {},
   "source": [
    "Now that our file has been loaded, we can start investigating it's contents.  \n",
    "To find information out about where the file originated from, such as the well name, location and what the depth range of the file covers, we can create a simple for loop to go over each header item. Using Python's f-string we can join the items together."
   ]
  },
  {
   "cell_type": "code",
   "execution_count": 126,
   "metadata": {},
   "outputs": [
    {
     "name": "stdout",
     "output_type": "stream",
     "text": [
      "START DEPTH (STRT): 5.0292\n",
      "STOP DEPTH (STOP): 1773.4788\n",
      "STEP (STEP): 0.1524\n",
      "NULL VALUE (NULL): -999.25\n",
      "COMPANY (COMP): \n",
      "WELL (WELL): DONGARA 24\n",
      "FIELD (FLD): \n",
      "LOCATION (LOC): \n",
      "COUNTY (CNTY): \n",
      "STATE (STAT): \n",
      "COUNTRY (CTRY): \n",
      "SERVICE COMPANY (SRVC): \n",
      "LOG DATE (DATE): 27  4 90\n",
      "API NUMBER (API): \n",
      "UNIQUE WELL ID (UWI): \n"
     ]
    }
   ],
   "source": [
    "for item in las.well:\n",
    "    print(f\"{item.descr} ({item.mnemonic}): {item.value}\")"
   ]
  },
  {
   "cell_type": "markdown",
   "metadata": {},
   "source": [
    "If we just want to extract the Well Name, we can simply call it by:"
   ]
  },
  {
   "cell_type": "code",
   "execution_count": 127,
   "metadata": {},
   "outputs": [
    {
     "data": {
      "text/plain": [
       "'DONGARA 24'"
      ]
     },
     "execution_count": 127,
     "metadata": {},
     "output_type": "execute_result"
    }
   ],
   "source": [
    "las.well.WELL.value"
   ]
  },
  {
   "cell_type": "markdown",
   "metadata": {},
   "source": [
    "To quickly see what curves are present within the las file we can loop through `las.curves`"
   ]
  },
  {
   "cell_type": "code",
   "execution_count": 128,
   "metadata": {},
   "outputs": [
    {
     "name": "stdout",
     "output_type": "stream",
     "text": [
      "DEPT\n",
      "CALI\n",
      "DRHO\n",
      "DT\n",
      "GR\n",
      "ILD\n",
      "LLD\n",
      "LLS\n",
      "MSFL\n",
      "NPHI\n",
      "RHOB\n",
      "SFLU\n",
      "SP\n"
     ]
    }
   ],
   "source": [
    "for curve in las.curves:\n",
    "    print(curve.mnemonic)"
   ]
  },
  {
   "cell_type": "markdown",
   "metadata": {},
   "source": [
    "To see what curves are present within the las file, we can repeat the process with the CurveItem object and call upon the `unit` and `descr` functions to get info on the units and the curve's description.\n",
    "The enumerate function allows us to keep a count of the number of curves that are present within the file. As enumerate returns a 0 on the first loop, we need to 1 to it if we want to include the depth curve."
   ]
  },
  {
   "cell_type": "code",
   "execution_count": 129,
   "metadata": {},
   "outputs": [
    {
     "name": "stdout",
     "output_type": "stream",
     "text": [
      "Curve: DEPT, Units: M, Description: 1  DEPTH\n",
      "Curve: CALI, Units: IN, Description: 2  Caliper\n",
      "Curve: DRHO, Units: G/C3, Description: 3  Bulk Density Correction\n",
      "Curve: DT, Units: US/F, Description: 4  Sonic\n",
      "Curve: GR, Units: GAPI, Description: 5  Gamma Ray\n",
      "Curve: ILD, Units: OHMM, Description: 6  IL-Deep Resistivity\n",
      "Curve: LLD, Units: OHMM, Description: 7  Latero-Log Deep\n",
      "Curve: LLS, Units: OHMM, Description: 8  Latero-Log Shallow\n",
      "Curve: MSFL, Units: OHMM, Description: 9  MSFL Resistivity\n",
      "Curve: NPHI, Units: PU, Description: 10  Neutron Porosity\n",
      "Curve: RHOB, Units: G/C3, Description: 11  Bulk Density\n",
      "Curve: SFLU, Units: OHMM, Description: 12  SFL Unaveraged\n",
      "Curve: SP, Units: MV, Description: 13  Spontaneous Potential\n",
      "There are a total of: 13 curves present within this file\n"
     ]
    }
   ],
   "source": [
    "for count, curve in enumerate(las.curves):\n",
    "    print(f\"Curve: {curve.mnemonic}, Units: {curve.unit}, Description: {curve.descr}\")\n",
    "print(f\"There are a total of: {count+1} curves present within this file\")"
   ]
  },
  {
   "cell_type": "markdown",
   "metadata": {},
   "source": [
    "## Creating a Pandas Dataframe\n",
    "Data loaded in using LASIO can be converted to a pandas dataframe using the .df() function. This allows us to easily plot data and pass it into one of the many machine learning algorithms."
   ]
  },
  {
   "cell_type": "code",
   "execution_count": 130,
   "metadata": {},
   "outputs": [],
   "source": [
    "well = las.df()"
   ]
  },
  {
   "cell_type": "markdown",
   "metadata": {},
   "source": [
    "The `.head()` function generates a table view of the header and the first 5 rows within the dataframe."
   ]
  },
  {
   "cell_type": "code",
   "execution_count": 133,
   "metadata": {},
   "outputs": [
    {
     "data": {
      "text/html": [
       "<div>\n",
       "<style scoped>\n",
       "    .dataframe tbody tr th:only-of-type {\n",
       "        vertical-align: middle;\n",
       "    }\n",
       "\n",
       "    .dataframe tbody tr th {\n",
       "        vertical-align: top;\n",
       "    }\n",
       "\n",
       "    .dataframe thead th {\n",
       "        text-align: right;\n",
       "    }\n",
       "</style>\n",
       "<table border=\"1\" class=\"dataframe\">\n",
       "  <thead>\n",
       "    <tr style=\"text-align: right;\">\n",
       "      <th></th>\n",
       "      <th>CALI</th>\n",
       "      <th>DRHO</th>\n",
       "      <th>DT</th>\n",
       "      <th>GR</th>\n",
       "      <th>ILD</th>\n",
       "      <th>LLD</th>\n",
       "      <th>LLS</th>\n",
       "      <th>MSFL</th>\n",
       "      <th>NPHI</th>\n",
       "      <th>RHOB</th>\n",
       "      <th>SFLU</th>\n",
       "      <th>SP</th>\n",
       "    </tr>\n",
       "    <tr>\n",
       "      <th>DEPT</th>\n",
       "      <th></th>\n",
       "      <th></th>\n",
       "      <th></th>\n",
       "      <th></th>\n",
       "      <th></th>\n",
       "      <th></th>\n",
       "      <th></th>\n",
       "      <th></th>\n",
       "      <th></th>\n",
       "      <th></th>\n",
       "      <th></th>\n",
       "      <th></th>\n",
       "    </tr>\n",
       "  </thead>\n",
       "  <tbody>\n",
       "    <tr>\n",
       "      <th>5.0292</th>\n",
       "      <td>NaN</td>\n",
       "      <td>NaN</td>\n",
       "      <td>NaN</td>\n",
       "      <td>33.9999</td>\n",
       "      <td>NaN</td>\n",
       "      <td>NaN</td>\n",
       "      <td>NaN</td>\n",
       "      <td>NaN</td>\n",
       "      <td>NaN</td>\n",
       "      <td>NaN</td>\n",
       "      <td>NaN</td>\n",
       "      <td>NaN</td>\n",
       "    </tr>\n",
       "    <tr>\n",
       "      <th>5.1816</th>\n",
       "      <td>NaN</td>\n",
       "      <td>NaN</td>\n",
       "      <td>NaN</td>\n",
       "      <td>35.6001</td>\n",
       "      <td>NaN</td>\n",
       "      <td>NaN</td>\n",
       "      <td>NaN</td>\n",
       "      <td>NaN</td>\n",
       "      <td>NaN</td>\n",
       "      <td>NaN</td>\n",
       "      <td>NaN</td>\n",
       "      <td>NaN</td>\n",
       "    </tr>\n",
       "    <tr>\n",
       "      <th>5.3340</th>\n",
       "      <td>NaN</td>\n",
       "      <td>NaN</td>\n",
       "      <td>NaN</td>\n",
       "      <td>40.1514</td>\n",
       "      <td>NaN</td>\n",
       "      <td>NaN</td>\n",
       "      <td>NaN</td>\n",
       "      <td>NaN</td>\n",
       "      <td>NaN</td>\n",
       "      <td>NaN</td>\n",
       "      <td>NaN</td>\n",
       "      <td>NaN</td>\n",
       "    </tr>\n",
       "    <tr>\n",
       "      <th>5.4864</th>\n",
       "      <td>NaN</td>\n",
       "      <td>NaN</td>\n",
       "      <td>NaN</td>\n",
       "      <td>41.3974</td>\n",
       "      <td>NaN</td>\n",
       "      <td>NaN</td>\n",
       "      <td>NaN</td>\n",
       "      <td>NaN</td>\n",
       "      <td>NaN</td>\n",
       "      <td>NaN</td>\n",
       "      <td>NaN</td>\n",
       "      <td>NaN</td>\n",
       "    </tr>\n",
       "    <tr>\n",
       "      <th>5.6388</th>\n",
       "      <td>NaN</td>\n",
       "      <td>NaN</td>\n",
       "      <td>NaN</td>\n",
       "      <td>40.8959</td>\n",
       "      <td>NaN</td>\n",
       "      <td>NaN</td>\n",
       "      <td>NaN</td>\n",
       "      <td>NaN</td>\n",
       "      <td>NaN</td>\n",
       "      <td>NaN</td>\n",
       "      <td>NaN</td>\n",
       "      <td>NaN</td>\n",
       "    </tr>\n",
       "    <tr>\n",
       "      <th>...</th>\n",
       "      <td>...</td>\n",
       "      <td>...</td>\n",
       "      <td>...</td>\n",
       "      <td>...</td>\n",
       "      <td>...</td>\n",
       "      <td>...</td>\n",
       "      <td>...</td>\n",
       "      <td>...</td>\n",
       "      <td>...</td>\n",
       "      <td>...</td>\n",
       "      <td>...</td>\n",
       "      <td>...</td>\n",
       "    </tr>\n",
       "    <tr>\n",
       "      <th>1528.2672</th>\n",
       "      <td>10.1812</td>\n",
       "      <td>0.0365</td>\n",
       "      <td>83.3939</td>\n",
       "      <td>188.5724</td>\n",
       "      <td>9.1481</td>\n",
       "      <td>8.3033</td>\n",
       "      <td>11.2339</td>\n",
       "      <td>1.2379</td>\n",
       "      <td>26.9912</td>\n",
       "      <td>2.5596</td>\n",
       "      <td>11.2898</td>\n",
       "      <td>41.5757</td>\n",
       "    </tr>\n",
       "    <tr>\n",
       "      <th>1528.4196</th>\n",
       "      <td>10.2304</td>\n",
       "      <td>0.0529</td>\n",
       "      <td>83.1991</td>\n",
       "      <td>184.3029</td>\n",
       "      <td>9.8734</td>\n",
       "      <td>8.5508</td>\n",
       "      <td>11.6717</td>\n",
       "      <td>2.2752</td>\n",
       "      <td>28.1908</td>\n",
       "      <td>2.5344</td>\n",
       "      <td>11.6809</td>\n",
       "      <td>41.4040</td>\n",
       "    </tr>\n",
       "    <tr>\n",
       "      <th>1528.5720</th>\n",
       "      <td>10.1227</td>\n",
       "      <td>0.0348</td>\n",
       "      <td>82.5200</td>\n",
       "      <td>184.2718</td>\n",
       "      <td>10.0776</td>\n",
       "      <td>8.8431</td>\n",
       "      <td>12.2189</td>\n",
       "      <td>17.5676</td>\n",
       "      <td>29.4296</td>\n",
       "      <td>2.4952</td>\n",
       "      <td>12.3892</td>\n",
       "      <td>41.1324</td>\n",
       "    </tr>\n",
       "    <tr>\n",
       "      <th>1528.7244</th>\n",
       "      <td>9.9645</td>\n",
       "      <td>0.0024</td>\n",
       "      <td>81.2289</td>\n",
       "      <td>194.4795</td>\n",
       "      <td>9.9506</td>\n",
       "      <td>9.1436</td>\n",
       "      <td>12.8094</td>\n",
       "      <td>15.4534</td>\n",
       "      <td>30.1057</td>\n",
       "      <td>2.4692</td>\n",
       "      <td>12.9048</td>\n",
       "      <td>40.9559</td>\n",
       "    </tr>\n",
       "    <tr>\n",
       "      <th>1528.8768</th>\n",
       "      <td>9.8597</td>\n",
       "      <td>-0.0246</td>\n",
       "      <td>81.2697</td>\n",
       "      <td>201.2853</td>\n",
       "      <td>9.7656</td>\n",
       "      <td>9.3490</td>\n",
       "      <td>13.3700</td>\n",
       "      <td>14.6636</td>\n",
       "      <td>29.1229</td>\n",
       "      <td>2.4735</td>\n",
       "      <td>13.1588</td>\n",
       "      <td>40.9529</td>\n",
       "    </tr>\n",
       "  </tbody>\n",
       "</table>\n",
       "<p>10000 rows × 12 columns</p>\n",
       "</div>"
      ],
      "text/plain": [
       "              CALI    DRHO       DT        GR      ILD     LLD      LLS  \\\n",
       "DEPT                                                                      \n",
       "5.0292         NaN     NaN      NaN   33.9999      NaN     NaN      NaN   \n",
       "5.1816         NaN     NaN      NaN   35.6001      NaN     NaN      NaN   \n",
       "5.3340         NaN     NaN      NaN   40.1514      NaN     NaN      NaN   \n",
       "5.4864         NaN     NaN      NaN   41.3974      NaN     NaN      NaN   \n",
       "5.6388         NaN     NaN      NaN   40.8959      NaN     NaN      NaN   \n",
       "...            ...     ...      ...       ...      ...     ...      ...   \n",
       "1528.2672  10.1812  0.0365  83.3939  188.5724   9.1481  8.3033  11.2339   \n",
       "1528.4196  10.2304  0.0529  83.1991  184.3029   9.8734  8.5508  11.6717   \n",
       "1528.5720  10.1227  0.0348  82.5200  184.2718  10.0776  8.8431  12.2189   \n",
       "1528.7244   9.9645  0.0024  81.2289  194.4795   9.9506  9.1436  12.8094   \n",
       "1528.8768   9.8597 -0.0246  81.2697  201.2853   9.7656  9.3490  13.3700   \n",
       "\n",
       "              MSFL     NPHI    RHOB     SFLU       SP  \n",
       "DEPT                                                   \n",
       "5.0292         NaN      NaN     NaN      NaN      NaN  \n",
       "5.1816         NaN      NaN     NaN      NaN      NaN  \n",
       "5.3340         NaN      NaN     NaN      NaN      NaN  \n",
       "5.4864         NaN      NaN     NaN      NaN      NaN  \n",
       "5.6388         NaN      NaN     NaN      NaN      NaN  \n",
       "...            ...      ...     ...      ...      ...  \n",
       "1528.2672   1.2379  26.9912  2.5596  11.2898  41.5757  \n",
       "1528.4196   2.2752  28.1908  2.5344  11.6809  41.4040  \n",
       "1528.5720  17.5676  29.4296  2.4952  12.3892  41.1324  \n",
       "1528.7244  15.4534  30.1057  2.4692  12.9048  40.9559  \n",
       "1528.8768  14.6636  29.1229  2.4735  13.1588  40.9529  \n",
       "\n",
       "[10000 rows x 12 columns]"
      ]
     },
     "execution_count": 133,
     "metadata": {},
     "output_type": "execute_result"
    }
   ],
   "source": [
    "well.head(10000)"
   ]
  },
  {
   "cell_type": "markdown",
   "metadata": {},
   "source": [
    "To find out more information about data, we can call upon the `.info()` and `.describe()` functions.  \n",
    "    \n",
    "The `.info()` function provides information about the data types and how many non-null values are present within each curve.  \n",
    "The `.describe()` function, provides statistical information about each curve and can be a useful QC for each curve."
   ]
  },
  {
   "cell_type": "code",
   "execution_count": 73,
   "metadata": {},
   "outputs": [
    {
     "data": {
      "text/html": [
       "<div>\n",
       "<style scoped>\n",
       "    .dataframe tbody tr th:only-of-type {\n",
       "        vertical-align: middle;\n",
       "    }\n",
       "\n",
       "    .dataframe tbody tr th {\n",
       "        vertical-align: top;\n",
       "    }\n",
       "\n",
       "    .dataframe thead th {\n",
       "        text-align: right;\n",
       "    }\n",
       "</style>\n",
       "<table border=\"1\" class=\"dataframe\">\n",
       "  <thead>\n",
       "    <tr style=\"text-align: right;\">\n",
       "      <th></th>\n",
       "      <th>DT</th>\n",
       "      <th>GR</th>\n",
       "      <th>LLD</th>\n",
       "      <th>LLS</th>\n",
       "      <th>SP</th>\n",
       "    </tr>\n",
       "  </thead>\n",
       "  <tbody>\n",
       "    <tr>\n",
       "      <th>count</th>\n",
       "      <td>7712.000000</td>\n",
       "      <td>7716.000000</td>\n",
       "      <td>7609.000000</td>\n",
       "      <td>7612.000000</td>\n",
       "      <td>7581.000000</td>\n",
       "    </tr>\n",
       "    <tr>\n",
       "      <th>mean</th>\n",
       "      <td>89.932357</td>\n",
       "      <td>125.883047</td>\n",
       "      <td>11.343497</td>\n",
       "      <td>9.529538</td>\n",
       "      <td>60.102314</td>\n",
       "    </tr>\n",
       "    <tr>\n",
       "      <th>std</th>\n",
       "      <td>10.874201</td>\n",
       "      <td>50.849390</td>\n",
       "      <td>52.231815</td>\n",
       "      <td>36.915944</td>\n",
       "      <td>7.658018</td>\n",
       "    </tr>\n",
       "    <tr>\n",
       "      <th>min</th>\n",
       "      <td>49.707400</td>\n",
       "      <td>29.106700</td>\n",
       "      <td>1.131700</td>\n",
       "      <td>1.081300</td>\n",
       "      <td>39.138800</td>\n",
       "    </tr>\n",
       "    <tr>\n",
       "      <th>25%</th>\n",
       "      <td>82.588025</td>\n",
       "      <td>77.954950</td>\n",
       "      <td>2.831600</td>\n",
       "      <td>2.432175</td>\n",
       "      <td>54.518600</td>\n",
       "    </tr>\n",
       "    <tr>\n",
       "      <th>50%</th>\n",
       "      <td>88.009900</td>\n",
       "      <td>131.111800</td>\n",
       "      <td>4.265700</td>\n",
       "      <td>4.068200</td>\n",
       "      <td>60.689900</td>\n",
       "    </tr>\n",
       "    <tr>\n",
       "      <th>75%</th>\n",
       "      <td>96.141275</td>\n",
       "      <td>167.740550</td>\n",
       "      <td>9.403300</td>\n",
       "      <td>9.877625</td>\n",
       "      <td>64.102400</td>\n",
       "    </tr>\n",
       "    <tr>\n",
       "      <th>max</th>\n",
       "      <td>177.437200</td>\n",
       "      <td>370.783400</td>\n",
       "      <td>1464.026000</td>\n",
       "      <td>1051.278000</td>\n",
       "      <td>83.375000</td>\n",
       "    </tr>\n",
       "  </tbody>\n",
       "</table>\n",
       "</div>"
      ],
      "text/plain": [
       "                DT           GR          LLD          LLS           SP\n",
       "count  7712.000000  7716.000000  7609.000000  7612.000000  7581.000000\n",
       "mean     89.932357   125.883047    11.343497     9.529538    60.102314\n",
       "std      10.874201    50.849390    52.231815    36.915944     7.658018\n",
       "min      49.707400    29.106700     1.131700     1.081300    39.138800\n",
       "25%      82.588025    77.954950     2.831600     2.432175    54.518600\n",
       "50%      88.009900   131.111800     4.265700     4.068200    60.689900\n",
       "75%      96.141275   167.740550     9.403300     9.877625    64.102400\n",
       "max     177.437200   370.783400  1464.026000  1051.278000    83.375000"
      ]
     },
     "execution_count": 73,
     "metadata": {},
     "output_type": "execute_result"
    }
   ],
   "source": [
    "well.describe()"
   ]
  },
  {
   "cell_type": "code",
   "execution_count": 74,
   "metadata": {},
   "outputs": [
    {
     "name": "stdout",
     "output_type": "stream",
     "text": [
      "<class 'pandas.core.frame.DataFrame'>\n",
      "Float64Index: 7752 entries, 593.598 to 1774.8504\n",
      "Data columns (total 5 columns):\n",
      " #   Column  Non-Null Count  Dtype  \n",
      "---  ------  --------------  -----  \n",
      " 0   DT      7712 non-null   float64\n",
      " 1   GR      7716 non-null   float64\n",
      " 2   LLD     7609 non-null   float64\n",
      " 3   LLS     7612 non-null   float64\n",
      " 4   SP      7581 non-null   float64\n",
      "dtypes: float64(5)\n",
      "memory usage: 363.4 KB\n"
     ]
    }
   ],
   "source": [
    "well.info()"
   ]
  },
  {
   "cell_type": "markdown",
   "metadata": {},
   "source": [
    "## Visualising Data Extent"
   ]
  },
  {
   "cell_type": "markdown",
   "metadata": {},
   "source": [
    "Instead of the summary provided by the pandas describe() function, we can create a visualisation using matplotlib. Firstly, we need to work out where we have nulls (nan values). We can do this by creating a second dataframe and calling .notnull() on our well dataframe.  \n",
    "  \n",
    "As this returns a boolean (True or False) for each depth, we need to multiply by 1 to convert the values from True and False to 1 and 0 respectively."
   ]
  },
  {
   "cell_type": "code",
   "execution_count": 62,
   "metadata": {},
   "outputs": [],
   "source": [
    "well_nan = well.notnull() * 1"
   ]
  },
  {
   "cell_type": "code",
   "execution_count": 63,
   "metadata": {},
   "outputs": [
    {
     "data": {
      "text/html": [
       "<div>\n",
       "<style scoped>\n",
       "    .dataframe tbody tr th:only-of-type {\n",
       "        vertical-align: middle;\n",
       "    }\n",
       "\n",
       "    .dataframe tbody tr th {\n",
       "        vertical-align: top;\n",
       "    }\n",
       "\n",
       "    .dataframe thead th {\n",
       "        text-align: right;\n",
       "    }\n",
       "</style>\n",
       "<table border=\"1\" class=\"dataframe\">\n",
       "  <thead>\n",
       "    <tr style=\"text-align: right;\">\n",
       "      <th></th>\n",
       "      <th>CALI</th>\n",
       "      <th>DRHO</th>\n",
       "      <th>DT</th>\n",
       "      <th>GR</th>\n",
       "      <th>IND</th>\n",
       "      <th>MLL</th>\n",
       "      <th>NPHI</th>\n",
       "      <th>RHOB</th>\n",
       "      <th>SN</th>\n",
       "      <th>SP</th>\n",
       "    </tr>\n",
       "    <tr>\n",
       "      <th>DEPT</th>\n",
       "      <th></th>\n",
       "      <th></th>\n",
       "      <th></th>\n",
       "      <th></th>\n",
       "      <th></th>\n",
       "      <th></th>\n",
       "      <th></th>\n",
       "      <th></th>\n",
       "      <th></th>\n",
       "      <th></th>\n",
       "    </tr>\n",
       "  </thead>\n",
       "  <tbody>\n",
       "    <tr>\n",
       "      <th>0.4572</th>\n",
       "      <td>0</td>\n",
       "      <td>0</td>\n",
       "      <td>0</td>\n",
       "      <td>1</td>\n",
       "      <td>0</td>\n",
       "      <td>0</td>\n",
       "      <td>0</td>\n",
       "      <td>0</td>\n",
       "      <td>0</td>\n",
       "      <td>0</td>\n",
       "    </tr>\n",
       "    <tr>\n",
       "      <th>0.6096</th>\n",
       "      <td>0</td>\n",
       "      <td>0</td>\n",
       "      <td>0</td>\n",
       "      <td>1</td>\n",
       "      <td>0</td>\n",
       "      <td>0</td>\n",
       "      <td>0</td>\n",
       "      <td>0</td>\n",
       "      <td>0</td>\n",
       "      <td>0</td>\n",
       "    </tr>\n",
       "    <tr>\n",
       "      <th>0.7620</th>\n",
       "      <td>0</td>\n",
       "      <td>0</td>\n",
       "      <td>0</td>\n",
       "      <td>1</td>\n",
       "      <td>0</td>\n",
       "      <td>0</td>\n",
       "      <td>0</td>\n",
       "      <td>0</td>\n",
       "      <td>0</td>\n",
       "      <td>0</td>\n",
       "    </tr>\n",
       "    <tr>\n",
       "      <th>0.9144</th>\n",
       "      <td>0</td>\n",
       "      <td>0</td>\n",
       "      <td>0</td>\n",
       "      <td>1</td>\n",
       "      <td>0</td>\n",
       "      <td>0</td>\n",
       "      <td>0</td>\n",
       "      <td>0</td>\n",
       "      <td>0</td>\n",
       "      <td>0</td>\n",
       "    </tr>\n",
       "    <tr>\n",
       "      <th>1.0668</th>\n",
       "      <td>0</td>\n",
       "      <td>0</td>\n",
       "      <td>0</td>\n",
       "      <td>1</td>\n",
       "      <td>0</td>\n",
       "      <td>0</td>\n",
       "      <td>0</td>\n",
       "      <td>0</td>\n",
       "      <td>0</td>\n",
       "      <td>0</td>\n",
       "    </tr>\n",
       "  </tbody>\n",
       "</table>\n",
       "</div>"
      ],
      "text/plain": [
       "        CALI  DRHO  DT  GR  IND  MLL  NPHI  RHOB  SN  SP\n",
       "DEPT                                                    \n",
       "0.4572     0     0   0   1    0    0     0     0   0   0\n",
       "0.6096     0     0   0   1    0    0     0     0   0   0\n",
       "0.7620     0     0   0   1    0    0     0     0   0   0\n",
       "0.9144     0     0   0   1    0    0     0     0   0   0\n",
       "1.0668     0     0   0   1    0    0     0     0   0   0"
      ]
     },
     "execution_count": 63,
     "metadata": {},
     "output_type": "execute_result"
    }
   ],
   "source": [
    "well_nan.head()"
   ]
  },
  {
   "cell_type": "markdown",
   "metadata": {},
   "source": [
    "We can now create a summary plot of the missing data"
   ]
  },
  {
   "cell_type": "code",
   "execution_count": 64,
   "metadata": {},
   "outputs": [
    {
     "data": {
      "image/png": "[encoded data removed]",
      "text/plain": [
       "<Figure size 504x720 with 7 Axes>"
      ]
     },
     "metadata": {
      "needs_background": "light"
     },
     "output_type": "display_data"
    }
   ],
   "source": [
    "fig = plt.subplots(figsize=(7,10))\n",
    "\n",
    "#Set up the plot axes\n",
    "ax1 = plt.subplot2grid((1,7), (0,0), rowspan=1, colspan = 1) \n",
    "ax2 = plt.subplot2grid((1,7), (0,1), rowspan=1, colspan = 1)\n",
    "ax3 = plt.subplot2grid((1,7), (0,2), rowspan=1, colspan = 1)\n",
    "ax4 = plt.subplot2grid((1,7), (0,3), rowspan=1, colspan = 1)\n",
    "ax5 = plt.subplot2grid((1,7), (0,4), rowspan=1, colspan = 1)\n",
    "ax6 = plt.subplot2grid((1,7), (0,5), rowspan=1, colspan = 1)\n",
    "ax7 = plt.subplot2grid((1,7), (0,6), rowspan=1, colspan = 1)\n",
    "\n",
    "columns = well_nan.columns\n",
    "axes = [ax1, ax2, ax3, ax4, ax5, ax6, ax7]\n",
    "\n",
    "for i, ax in enumerate(axes):\n",
    "    ax.plot(well_nan.iloc[:,i], well_nan.index, lw=0)\n",
    "    ax.set_ylim(5000, 0)\n",
    "    ax.set_xlim(0, 1)\n",
    "    ax.set_title(columns[i])\n",
    "    ax.set_facecolor('whitesmoke')\n",
    "    ax.fill_betweenx(well_nan.index, 0, well_nan.iloc[:,i], facecolor='red')\n",
    "    # Remove tick labels from each subplot\n",
    "    if i > 0:\n",
    "        plt.setp(ax.get_yticklabels(), visible = False)\n",
    "    plt.setp(ax.get_xticklabels(), visible = False)\n",
    "\n",
    "ax1.set_ylabel('Depth', fontsize=14)\n",
    "\n",
    "plt.subplots_adjust(wspace=0)\n",
    "plt.show()"
   ]
  },
  {
   "cell_type": "markdown",
   "metadata": {},
   "source": [
    "## Plotting Log Data\n",
    "Finally, we can plot our data using the code below. Essentially, the code is building up a series of subplots and plotting the data on the relevant tracks.  \n",
    "  \n",
    "When we add curves to the tracks, we need to set the curve's properties, including the limits, colour and labels. We can also specify the shading between curves. An example has been added to the caliper curve to show shading between a bitsize value (8.5\") and the CALI curve.  \n",
    "  \n",
    "If there are a number of features that are common between the plots, we can iterate over them using a for loop."
   ]
  },
  {
   "cell_type": "code",
   "execution_count": 65,
   "metadata": {},
   "outputs": [
    {
     "ename": "KeyError",
     "evalue": "'LLD'",
     "output_type": "error",
     "traceback": [
      "\u001b[0;31m---------------------------------------------------------------------------\u001b[0m",
      "\u001b[0;31mKeyError\u001b[0m                                  Traceback (most recent call last)",
      "\u001b[0;32m~/opt/miniconda3/envs/py37/lib/python3.7/site-packages/pandas/core/indexes/base.py\u001b[0m in \u001b[0;36mget_loc\u001b[0;34m(self, key, method, tolerance)\u001b[0m\n\u001b[1;32m   2897\u001b[0m             \u001b[0;32mtry\u001b[0m\u001b[0;34m:\u001b[0m\u001b[0;34m\u001b[0m\u001b[0m\n\u001b[0;32m-> 2898\u001b[0;31m                 \u001b[0;32mreturn\u001b[0m \u001b[0mself\u001b[0m\u001b[0;34m.\u001b[0m\u001b[0m_engine\u001b[0m\u001b[0;34m.\u001b[0m\u001b[0mget_loc\u001b[0m\u001b[0;34m(\u001b[0m\u001b[0mcasted_key\u001b[0m\u001b[0;34m)\u001b[0m\u001b[0;34m\u001b[0m\u001b[0m\n\u001b[0m\u001b[1;32m   2899\u001b[0m             \u001b[0;32mexcept\u001b[0m \u001b[0mKeyError\u001b[0m \u001b[0;32mas\u001b[0m \u001b[0merr\u001b[0m\u001b[0;34m:\u001b[0m\u001b[0;34m\u001b[0m\u001b[0m\n",
      "\u001b[0;32mpandas/_libs/index.pyx\u001b[0m in \u001b[0;36mpandas._libs.index.IndexEngine.get_loc\u001b[0;34m()\u001b[0m\n",
      "\u001b[0;32mpandas/_libs/index.pyx\u001b[0m in \u001b[0;36mpandas._libs.index.IndexEngine.get_loc\u001b[0;34m()\u001b[0m\n",
      "\u001b[0;32mpandas/_libs/hashtable_class_helper.pxi\u001b[0m in \u001b[0;36mpandas._libs.hashtable.PyObjectHashTable.get_item\u001b[0;34m()\u001b[0m\n",
      "\u001b[0;32mpandas/_libs/hashtable_class_helper.pxi\u001b[0m in \u001b[0;36mpandas._libs.hashtable.PyObjectHashTable.get_item\u001b[0;34m()\u001b[0m\n",
      "\u001b[0;31mKeyError\u001b[0m: 'LLD'",
      "\nThe above exception was the direct cause of the following exception:\n",
      "\u001b[0;31mKeyError\u001b[0m                                  Traceback (most recent call last)",
      "\u001b[0;32m/var/folders/xf/sp2htfq131s_z5gkj3wn60_w0000gp/T/ipykernel_26128/3515648468.py\u001b[0m in \u001b[0;36m<module>\u001b[0;34m\u001b[0m\n\u001b[1;32m     45\u001b[0m \u001b[0;34m\u001b[0m\u001b[0m\n\u001b[1;32m     46\u001b[0m \u001b[0;31m# Resistivity track\u001b[0m\u001b[0;34m\u001b[0m\u001b[0;34m\u001b[0m\u001b[0m\n\u001b[0;32m---> 47\u001b[0;31m \u001b[0max2\u001b[0m\u001b[0;34m.\u001b[0m\u001b[0mplot\u001b[0m\u001b[0;34m(\u001b[0m\u001b[0mwell\u001b[0m\u001b[0;34m[\u001b[0m\u001b[0;34m\"LLD\"\u001b[0m\u001b[0;34m]\u001b[0m\u001b[0;34m,\u001b[0m \u001b[0mwell\u001b[0m\u001b[0;34m.\u001b[0m\u001b[0mindex\u001b[0m\u001b[0;34m,\u001b[0m \u001b[0mcolor\u001b[0m \u001b[0;34m=\u001b[0m \u001b[0;34m\"red\"\u001b[0m\u001b[0;34m,\u001b[0m \u001b[0mlinewidth\u001b[0m \u001b[0;34m=\u001b[0m \u001b[0;36m0.5\u001b[0m\u001b[0;34m)\u001b[0m\u001b[0;34m\u001b[0m\u001b[0m\n\u001b[0m\u001b[1;32m     48\u001b[0m \u001b[0max2\u001b[0m\u001b[0;34m.\u001b[0m\u001b[0mset_xlabel\u001b[0m\u001b[0;34m(\u001b[0m\u001b[0;34m\"SHALLOW RESISTIVITY\"\u001b[0m\u001b[0;34m)\u001b[0m\u001b[0;34m\u001b[0m\u001b[0m\n\u001b[1;32m     49\u001b[0m \u001b[0max2\u001b[0m\u001b[0;34m.\u001b[0m\u001b[0mset_xlim\u001b[0m\u001b[0;34m(\u001b[0m\u001b[0;36m0.2\u001b[0m\u001b[0;34m,\u001b[0m \u001b[0;36m2000\u001b[0m\u001b[0;34m)\u001b[0m\u001b[0;34m\u001b[0m\u001b[0m\n",
      "\u001b[0;32m~/opt/miniconda3/envs/py37/lib/python3.7/site-packages/pandas/core/frame.py\u001b[0m in \u001b[0;36m__getitem__\u001b[0;34m(self, key)\u001b[0m\n\u001b[1;32m   2904\u001b[0m             \u001b[0;32mif\u001b[0m \u001b[0mself\u001b[0m\u001b[0;34m.\u001b[0m\u001b[0mcolumns\u001b[0m\u001b[0;34m.\u001b[0m\u001b[0mnlevels\u001b[0m \u001b[0;34m>\u001b[0m \u001b[0;36m1\u001b[0m\u001b[0;34m:\u001b[0m\u001b[0;34m\u001b[0m\u001b[0m\n\u001b[1;32m   2905\u001b[0m                 \u001b[0;32mreturn\u001b[0m \u001b[0mself\u001b[0m\u001b[0;34m.\u001b[0m\u001b[0m_getitem_multilevel\u001b[0m\u001b[0;34m(\u001b[0m\u001b[0mkey\u001b[0m\u001b[0;34m)\u001b[0m\u001b[0;34m\u001b[0m\u001b[0m\n\u001b[0;32m-> 2906\u001b[0;31m             \u001b[0mindexer\u001b[0m \u001b[0;34m=\u001b[0m \u001b[0mself\u001b[0m\u001b[0;34m.\u001b[0m\u001b[0mcolumns\u001b[0m\u001b[0;34m.\u001b[0m\u001b[0mget_loc\u001b[0m\u001b[0;34m(\u001b[0m\u001b[0mkey\u001b[0m\u001b[0;34m)\u001b[0m\u001b[0;34m\u001b[0m\u001b[0m\n\u001b[0m\u001b[1;32m   2907\u001b[0m             \u001b[0;32mif\u001b[0m \u001b[0mis_integer\u001b[0m\u001b[0;34m(\u001b[0m\u001b[0mindexer\u001b[0m\u001b[0;34m)\u001b[0m\u001b[0;34m:\u001b[0m\u001b[0;34m\u001b[0m\u001b[0m\n\u001b[1;32m   2908\u001b[0m                 \u001b[0mindexer\u001b[0m \u001b[0;34m=\u001b[0m \u001b[0;34m[\u001b[0m\u001b[0mindexer\u001b[0m\u001b[0;34m]\u001b[0m\u001b[0;34m\u001b[0m\u001b[0m\n",
      "\u001b[0;32m~/opt/miniconda3/envs/py37/lib/python3.7/site-packages/pandas/core/indexes/base.py\u001b[0m in \u001b[0;36mget_loc\u001b[0;34m(self, key, method, tolerance)\u001b[0m\n\u001b[1;32m   2898\u001b[0m                 \u001b[0;32mreturn\u001b[0m \u001b[0mself\u001b[0m\u001b[0;34m.\u001b[0m\u001b[0m_engine\u001b[0m\u001b[0;34m.\u001b[0m\u001b[0mget_loc\u001b[0m\u001b[0;34m(\u001b[0m\u001b[0mcasted_key\u001b[0m\u001b[0;34m)\u001b[0m\u001b[0;34m\u001b[0m\u001b[0m\n\u001b[1;32m   2899\u001b[0m             \u001b[0;32mexcept\u001b[0m \u001b[0mKeyError\u001b[0m \u001b[0;32mas\u001b[0m \u001b[0merr\u001b[0m\u001b[0;34m:\u001b[0m\u001b[0;34m\u001b[0m\u001b[0m\n\u001b[0;32m-> 2900\u001b[0;31m                 \u001b[0;32mraise\u001b[0m \u001b[0mKeyError\u001b[0m\u001b[0;34m(\u001b[0m\u001b[0mkey\u001b[0m\u001b[0;34m)\u001b[0m \u001b[0;32mfrom\u001b[0m \u001b[0merr\u001b[0m\u001b[0;34m\u001b[0m\u001b[0m\n\u001b[0m\u001b[1;32m   2901\u001b[0m \u001b[0;34m\u001b[0m\u001b[0m\n\u001b[1;32m   2902\u001b[0m         \u001b[0;32mif\u001b[0m \u001b[0mtolerance\u001b[0m \u001b[0;32mis\u001b[0m \u001b[0;32mnot\u001b[0m \u001b[0;32mNone\u001b[0m\u001b[0;34m:\u001b[0m\u001b[0;34m\u001b[0m\u001b[0m\n",
      "\u001b[0;31mKeyError\u001b[0m: 'LLD'"
     ]
    },
    {
     "data": {
      "image/png": "[encoded data removed]",
      "text/plain": [
       "<Figure size 1080x720 with 12 Axes>"
      ]
     },
     "metadata": {
      "needs_background": "light"
     },
     "output_type": "display_data"
    }
   ],
   "source": [
    "fig, ax = plt.subplots(figsize=(15,10))\n",
    "\n",
    "#Set up the plot axes\n",
    "ax1 = plt.subplot2grid((1,6), (0,0), rowspan=1, colspan = 1)\n",
    "ax2 = plt.subplot2grid((1,6), (0,1), rowspan=1, colspan = 1, sharey = ax1)\n",
    "ax3 = plt.subplot2grid((1,6), (0,2), rowspan=1, colspan = 1, sharey = ax1)\n",
    "ax4 = plt.subplot2grid((1,6), (0,3), rowspan=1, colspan = 1, sharey = ax1)\n",
    "ax5 = ax3.twiny() #Twins the y-axis for the density track with the neutron track\n",
    "ax6 = plt.subplot2grid((1,6), (0,4), rowspan=1, colspan = 1, sharey = ax1)\n",
    "ax7 = ax2.twiny()\n",
    "\n",
    "# As our curve scales will be detached from the top of the track,\n",
    "# this code adds the top border back in without dealing with splines\n",
    "ax10 = ax1.twiny()\n",
    "ax10.xaxis.set_visible(False)\n",
    "ax11 = ax2.twiny()\n",
    "ax11.xaxis.set_visible(False)\n",
    "ax12 = ax3.twiny()\n",
    "ax12.xaxis.set_visible(False)\n",
    "ax13 = ax4.twiny()\n",
    "ax13.xaxis.set_visible(False)\n",
    "ax14 = ax6.twiny()\n",
    "ax14.xaxis.set_visible(False)\n",
    "\n",
    "# Gamma Ray track\n",
    "ax1.plot(well[\"GR\"], well.index, color = \"green\", linewidth = 0.5)\n",
    "ax1.set_xlabel(\"Gamma\")\n",
    "ax1.xaxis.label.set_color(\"green\")\n",
    "ax1.set_xlim(0, 200)\n",
    "ax1.set_ylabel(\"Depth (m)\")\n",
    "ax1.tick_params(axis='x', colors=\"green\")\n",
    "ax1.spines[\"top\"].set_edgecolor(\"green\")\n",
    "ax1.title.set_color('green')\n",
    "ax1.set_xticks([0, 50, 100, 150, 200])\n",
    "\n",
    "# Resistivity track\n",
    "# ax2.plot(well[\"RDEP\"], well.index, color = \"red\", linewidth = 0.5)\n",
    "# ax2.set_xlabel(\"Resistivity - Deep\")\n",
    "# ax2.set_xlim(0.2, 2000)\n",
    "# ax2.xaxis.label.set_color(\"red\")\n",
    "# ax2.tick_params(axis='x', colors=\"red\")\n",
    "# ax2.spines[\"top\"].set_edgecolor(\"red\")\n",
    "# ax2.set_xticks([0.1, 1, 10, 100, 1000])\n",
    "# ax2.semilogx()\n",
    "\n",
    "# Resistivity track\n",
    "ax2.plot(well[\"LLD\"], well.index, color = \"red\", linewidth = 0.5)\n",
    "ax2.set_xlabel(\"SHALLOW RESISTIVITY\")\n",
    "ax2.set_xlim(0.2, 2000)\n",
    "ax2.xaxis.label.set_color(\"red\")\n",
    "ax2.tick_params(axis='x', colors=\"red\")\n",
    "ax2.spines[\"top\"].set_edgecolor(\"red\")\n",
    "ax2.set_xticks([0.1, 1, 10, 100, 1000])\n",
    "ax2.semilogx()\n",
    "\n",
    "# Density track\n",
    "ax3.plot(well[\"RHOB\"], well.index, color = \"red\", linewidth = 0.5)\n",
    "ax3.set_xlabel(\"Bulk Density\")\n",
    "ax3.set_xlim(1.95, 2.95)\n",
    "ax3.xaxis.label.set_color(\"red\")\n",
    "ax3.tick_params(axis='x', colors=\"red\")\n",
    "ax3.spines[\"top\"].set_edgecolor(\"red\")\n",
    "ax3.set_xticks([1.95, 2.45, 2.95])\n",
    "\n",
    "# Sonic track\n",
    "ax4.plot(well[\"DTLN\"], well.index, color = \"purple\", linewidth = 0.5)\n",
    "ax4.set_xlabel(\"Delta-T Long Spacing Near\")\n",
    "ax4.set_xlim(140, 40)\n",
    "ax4.xaxis.label.set_color(\"purple\")\n",
    "ax4.tick_params(axis='x', colors=\"purple\")\n",
    "ax4.spines[\"top\"].set_edgecolor(\"purple\")\n",
    "\n",
    "# Neutron track placed ontop of density track\n",
    "ax5.plot(well[\"NRHO\"], well.index, color = \"blue\", linewidth = 0.5)\n",
    "ax5.set_xlabel('Neutron')\n",
    "ax5.xaxis.label.set_color(\"blue\")\n",
    "ax5.set_xlim(45, -15)\n",
    "ax5.set_ylim(4150, 3500)\n",
    "ax5.tick_params(axis='x', colors=\"blue\")\n",
    "ax5.spines[\"top\"].set_position((\"axes\", 1.08))\n",
    "ax5.spines[\"top\"].set_visible(True)\n",
    "ax5.spines[\"top\"].set_edgecolor(\"blue\")\n",
    "ax5.set_xticks([45,  15, -15])\n",
    "\n",
    "# Caliper track\n",
    "ax6.plot(well[\"CALI\"], well.index, color = \"black\", linewidth = 0.5)\n",
    "ax6.set_xlabel(\"Caliper\")\n",
    "ax6.set_xlim(6, 16)\n",
    "ax6.xaxis.label.set_color(\"black\")\n",
    "ax6.tick_params(axis='x', colors=\"black\")\n",
    "ax6.spines[\"top\"].set_edgecolor(\"black\")\n",
    "ax6.fill_betweenx(well_nan.index, 8.5, well[\"CALI\"], facecolor='yellow')\n",
    "ax6.set_xticks([6,  11, 16])\n",
    "\n",
    "\n",
    "# Resistivity track - Curve 2\n",
    "ax7.plot(well[\"LLS\"], well.index, color = \"green\", linewidth = 0.5)\n",
    "ax7.set_xlabel(\"SHALLOW RESISTIVITY\")\n",
    "ax7.set_xlim(0.2, 2000)\n",
    "ax7.xaxis.label.set_color(\"green\")\n",
    "ax7.spines[\"top\"].set_position((\"axes\", 1.08))\n",
    "ax7.spines[\"top\"].set_visible(True)\n",
    "ax7.tick_params(axis='x', colors=\"green\")\n",
    "ax7.spines[\"top\"].set_edgecolor(\"green\")\n",
    "ax7.set_xticks([0.1, 1, 10, 100, 1000])\n",
    "ax7.semilogx()\n",
    "\n",
    "# Common functions for setting up the plot can be extracted into\n",
    "# a for loop. This saves repeating code.\n",
    "for ax in [ax1, ax2, ax3, ax4, ax6]:\n",
    "    ax.set_ylim(4500, 3500)\n",
    "    ax.grid(which='major', color='lightgrey', linestyle='-')\n",
    "    ax.xaxis.set_ticks_position(\"top\")\n",
    "    ax.xaxis.set_label_position(\"top\")\n",
    "    ax.spines[\"top\"].set_position((\"axes\", 1.02))\n",
    "    \n",
    "    \n",
    "for ax in [ax2, ax3, ax4, ax6]:\n",
    "    plt.setp(ax.get_yticklabels(), visible = False)\n",
    "    \n",
    "plt.tight_layout()\n",
    "fig.subplots_adjust(wspace = 0.15)"
   ]
  },
  {
   "cell_type": "code",
   "execution_count": null,
   "metadata": {},
   "outputs": [],
   "source": []
  }
 ],
 "metadata": {
  "kernelspec": {
   "display_name": "Python 3 (ipykernel)",
   "language": "python",
   "name": "python3"
  },
  "language_info": {
   "codemirror_mode": {
    "name": "ipython",
    "version": 3
   },
   "file_extension": ".py",
   "mimetype": "text/x-python",
   "name": "python",
   "nbconvert_exporter": "python",
   "pygments_lexer": "ipython3",
   "version": "3.7.0"
  }
 },
 "nbformat": 4,
 "nbformat_minor": 4
}
