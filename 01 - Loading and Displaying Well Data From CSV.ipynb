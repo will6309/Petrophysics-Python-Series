{
 "cells": [
  {
   "cell_type": "markdown",
   "metadata": {},
   "source": [
    "## 1. Loading and Displaying Well Data From CSV"
   ]
  },
  {
   "cell_type": "markdown",
   "metadata": {},
   "source": [
    "Created By: Andy McDonald"
   ]
  },
  {
   "cell_type": "markdown",
   "metadata": {},
   "source": [
    "The following tutorial illustrates loading basic well log data from a csv file by using pandas, and displaying the data using the plotting option available in pandas. "
   ]
  },
  {
   "cell_type": "code",
   "execution_count": 1,
   "metadata": {},
   "outputs": [],
   "source": [
    "import pandas as pd\n",
    "import numpy as np"
   ]
  },
  {
   "cell_type": "code",
   "execution_count": 2,
   "metadata": {},
   "outputs": [],
   "source": [
    "well = pd.read_csv(\"Data/L0509WellData.csv\", header=0)"
   ]
  },
  {
   "cell_type": "markdown",
   "metadata": {},
   "source": [
    "To check that the data has been loaded in correctly, we can use the .head() function in pandas to view the first 5 rows and the header."
   ]
  },
  {
   "cell_type": "code",
   "execution_count": 4,
   "metadata": {},
   "outputs": [
    {
     "data": {
      "text/html": [
       "<div>\n",
       "<style scoped>\n",
       "    .dataframe tbody tr th:only-of-type {\n",
       "        vertical-align: middle;\n",
       "    }\n",
       "\n",
       "    .dataframe tbody tr th {\n",
       "        vertical-align: top;\n",
       "    }\n",
       "\n",
       "    .dataframe thead th {\n",
       "        text-align: right;\n",
       "    }\n",
       "</style>\n",
       "<table border=\"1\" class=\"dataframe\">\n",
       "  <thead>\n",
       "    <tr style=\"text-align: right;\">\n",
       "      <th></th>\n",
       "      <th>DEPTH</th>\n",
       "      <th>GR</th>\n",
       "      <th>DT</th>\n",
       "      <th>RHOB</th>\n",
       "      <th>DRHO</th>\n",
       "      <th>NPHI</th>\n",
       "    </tr>\n",
       "  </thead>\n",
       "  <tbody>\n",
       "    <tr>\n",
       "      <th>0</th>\n",
       "      <td>4609.8008</td>\n",
       "      <td>89.059479</td>\n",
       "      <td>-999.000000</td>\n",
       "      <td>2.483700</td>\n",
       "      <td>0.018494</td>\n",
       "      <td>0.129119</td>\n",
       "    </tr>\n",
       "    <tr>\n",
       "      <th>1</th>\n",
       "      <td>4609.9008</td>\n",
       "      <td>90.721848</td>\n",
       "      <td>-999.000000</td>\n",
       "      <td>2.489308</td>\n",
       "      <td>0.013656</td>\n",
       "      <td>0.108034</td>\n",
       "    </tr>\n",
       "    <tr>\n",
       "      <th>2</th>\n",
       "      <td>4610.0008</td>\n",
       "      <td>90.709061</td>\n",
       "      <td>-999.000000</td>\n",
       "      <td>2.501088</td>\n",
       "      <td>0.011289</td>\n",
       "      <td>0.085650</td>\n",
       "    </tr>\n",
       "    <tr>\n",
       "      <th>3</th>\n",
       "      <td>4610.1008</td>\n",
       "      <td>89.568954</td>\n",
       "      <td>66.223099</td>\n",
       "      <td>2.515450</td>\n",
       "      <td>0.008615</td>\n",
       "      <td>0.070332</td>\n",
       "    </tr>\n",
       "    <tr>\n",
       "      <th>4</th>\n",
       "      <td>4610.2008</td>\n",
       "      <td>88.169571</td>\n",
       "      <td>66.705551</td>\n",
       "      <td>2.530982</td>\n",
       "      <td>0.005628</td>\n",
       "      <td>0.065343</td>\n",
       "    </tr>\n",
       "    <tr>\n",
       "      <th>5</th>\n",
       "      <td>4610.3008</td>\n",
       "      <td>86.943130</td>\n",
       "      <td>67.237823</td>\n",
       "      <td>2.543377</td>\n",
       "      <td>0.001724</td>\n",
       "      <td>0.066881</td>\n",
       "    </tr>\n",
       "    <tr>\n",
       "      <th>6</th>\n",
       "      <td>4610.4008</td>\n",
       "      <td>86.172943</td>\n",
       "      <td>67.531052</td>\n",
       "      <td>2.550319</td>\n",
       "      <td>-0.002829</td>\n",
       "      <td>0.067540</td>\n",
       "    </tr>\n",
       "    <tr>\n",
       "      <th>7</th>\n",
       "      <td>4610.5008</td>\n",
       "      <td>86.267899</td>\n",
       "      <td>68.183243</td>\n",
       "      <td>2.555398</td>\n",
       "      <td>-0.006574</td>\n",
       "      <td>0.065946</td>\n",
       "    </tr>\n",
       "    <tr>\n",
       "      <th>8</th>\n",
       "      <td>4610.6008</td>\n",
       "      <td>87.750702</td>\n",
       "      <td>68.546539</td>\n",
       "      <td>2.564067</td>\n",
       "      <td>-0.008947</td>\n",
       "      <td>0.063870</td>\n",
       "    </tr>\n",
       "    <tr>\n",
       "      <th>9</th>\n",
       "      <td>4610.7008</td>\n",
       "      <td>90.922546</td>\n",
       "      <td>68.219681</td>\n",
       "      <td>2.578216</td>\n",
       "      <td>-0.010293</td>\n",
       "      <td>0.063689</td>\n",
       "    </tr>\n",
       "  </tbody>\n",
       "</table>\n",
       "</div>"
      ],
      "text/plain": [
       "       DEPTH         GR          DT      RHOB      DRHO      NPHI\n",
       "0  4609.8008  89.059479 -999.000000  2.483700  0.018494  0.129119\n",
       "1  4609.9008  90.721848 -999.000000  2.489308  0.013656  0.108034\n",
       "2  4610.0008  90.709061 -999.000000  2.501088  0.011289  0.085650\n",
       "3  4610.1008  89.568954   66.223099  2.515450  0.008615  0.070332\n",
       "4  4610.2008  88.169571   66.705551  2.530982  0.005628  0.065343\n",
       "5  4610.3008  86.943130   67.237823  2.543377  0.001724  0.066881\n",
       "6  4610.4008  86.172943   67.531052  2.550319 -0.002829  0.067540\n",
       "7  4610.5008  86.267899   68.183243  2.555398 -0.006574  0.065946\n",
       "8  4610.6008  87.750702   68.546539  2.564067 -0.008947  0.063870\n",
       "9  4610.7008  90.922546   68.219681  2.578216 -0.010293  0.063689"
      ]
     },
     "execution_count": 4,
     "metadata": {},
     "output_type": "execute_result"
    }
   ],
   "source": [
    "well.head(10)"
   ]
  },
  {
   "cell_type": "markdown",
   "metadata": {},
   "source": [
    "We can also view some statistics on the curves by using the describe() function."
   ]
  },
  {
   "cell_type": "code",
   "execution_count": 4,
   "metadata": {},
   "outputs": [
    {
     "data": {
      "text/html": [
       "<div>\n",
       "<style scoped>\n",
       "    .dataframe tbody tr th:only-of-type {\n",
       "        vertical-align: middle;\n",
       "    }\n",
       "\n",
       "    .dataframe tbody tr th {\n",
       "        vertical-align: top;\n",
       "    }\n",
       "\n",
       "    .dataframe thead th {\n",
       "        text-align: right;\n",
       "    }\n",
       "</style>\n",
       "<table border=\"1\" class=\"dataframe\">\n",
       "  <thead>\n",
       "    <tr style=\"text-align: right;\">\n",
       "      <th></th>\n",
       "      <th>DEPTH</th>\n",
       "      <th>GR</th>\n",
       "      <th>DT</th>\n",
       "      <th>RHOB</th>\n",
       "      <th>DRHO</th>\n",
       "      <th>NPHI</th>\n",
       "    </tr>\n",
       "  </thead>\n",
       "  <tbody>\n",
       "    <tr>\n",
       "      <th>count</th>\n",
       "      <td>1921.000000</td>\n",
       "      <td>1921.000000</td>\n",
       "      <td>1921.000000</td>\n",
       "      <td>1921.000000</td>\n",
       "      <td>1921.000000</td>\n",
       "      <td>1921.000000</td>\n",
       "    </tr>\n",
       "    <tr>\n",
       "      <th>mean</th>\n",
       "      <td>4705.800425</td>\n",
       "      <td>67.543849</td>\n",
       "      <td>65.732804</td>\n",
       "      <td>2.554064</td>\n",
       "      <td>0.020477</td>\n",
       "      <td>0.114056</td>\n",
       "    </tr>\n",
       "    <tr>\n",
       "      <th>std</th>\n",
       "      <td>55.468658</td>\n",
       "      <td>31.455753</td>\n",
       "      <td>42.362195</td>\n",
       "      <td>0.121438</td>\n",
       "      <td>0.045450</td>\n",
       "      <td>0.039322</td>\n",
       "    </tr>\n",
       "    <tr>\n",
       "      <th>min</th>\n",
       "      <td>4609.800800</td>\n",
       "      <td>19.605911</td>\n",
       "      <td>-999.000000</td>\n",
       "      <td>1.947107</td>\n",
       "      <td>-0.132031</td>\n",
       "      <td>0.033476</td>\n",
       "    </tr>\n",
       "    <tr>\n",
       "      <th>25%</th>\n",
       "      <td>4657.800600</td>\n",
       "      <td>38.902794</td>\n",
       "      <td>64.283295</td>\n",
       "      <td>2.495097</td>\n",
       "      <td>-0.012742</td>\n",
       "      <td>0.092152</td>\n",
       "    </tr>\n",
       "    <tr>\n",
       "      <th>50%</th>\n",
       "      <td>4705.800400</td>\n",
       "      <td>63.487732</td>\n",
       "      <td>67.377380</td>\n",
       "      <td>2.557842</td>\n",
       "      <td>0.006896</td>\n",
       "      <td>0.111190</td>\n",
       "    </tr>\n",
       "    <tr>\n",
       "      <th>75%</th>\n",
       "      <td>4753.800200</td>\n",
       "      <td>95.923019</td>\n",
       "      <td>70.074265</td>\n",
       "      <td>2.647077</td>\n",
       "      <td>0.054896</td>\n",
       "      <td>0.128894</td>\n",
       "    </tr>\n",
       "    <tr>\n",
       "      <th>max</th>\n",
       "      <td>4801.800000</td>\n",
       "      <td>137.462921</td>\n",
       "      <td>89.620895</td>\n",
       "      <td>2.788836</td>\n",
       "      <td>0.134148</td>\n",
       "      <td>0.417384</td>\n",
       "    </tr>\n",
       "  </tbody>\n",
       "</table>\n",
       "</div>"
      ],
      "text/plain": [
       "             DEPTH           GR           DT         RHOB         DRHO  \\\n",
       "count  1921.000000  1921.000000  1921.000000  1921.000000  1921.000000   \n",
       "mean   4705.800425    67.543849    65.732804     2.554064     0.020477   \n",
       "std      55.468658    31.455753    42.362195     0.121438     0.045450   \n",
       "min    4609.800800    19.605911  -999.000000     1.947107    -0.132031   \n",
       "25%    4657.800600    38.902794    64.283295     2.495097    -0.012742   \n",
       "50%    4705.800400    63.487732    67.377380     2.557842     0.006896   \n",
       "75%    4753.800200    95.923019    70.074265     2.647077     0.054896   \n",
       "max    4801.800000   137.462921    89.620895     2.788836     0.134148   \n",
       "\n",
       "              NPHI  \n",
       "count  1921.000000  \n",
       "mean      0.114056  \n",
       "std       0.039322  \n",
       "min       0.033476  \n",
       "25%       0.092152  \n",
       "50%       0.111190  \n",
       "75%       0.128894  \n",
       "max       0.417384  "
      ]
     },
     "execution_count": 4,
     "metadata": {},
     "output_type": "execute_result"
    }
   ],
   "source": [
    "well.describe()"
   ]
  },
  {
   "cell_type": "markdown",
   "metadata": {},
   "source": [
    "Before carrying out any displaying of data or calculations, we carry out some data cleansing. The first is the conversion of null values, represented by -999.25, to a Not a Number (NaN). We can achieve this using the replace function."
   ]
  },
  {
   "cell_type": "code",
   "execution_count": 5,
   "metadata": {},
   "outputs": [],
   "source": [
    "well.replace(-999, np.nan, inplace=True)"
   ]
  },
  {
   "cell_type": "markdown",
   "metadata": {},
   "source": [
    "If we now call the describe and head functions on the well dataframe, we can see that the nulls have been been replaced."
   ]
  },
  {
   "cell_type": "code",
   "execution_count": 6,
   "metadata": {},
   "outputs": [
    {
     "data": {
      "text/html": [
       "<div>\n",
       "<style scoped>\n",
       "    .dataframe tbody tr th:only-of-type {\n",
       "        vertical-align: middle;\n",
       "    }\n",
       "\n",
       "    .dataframe tbody tr th {\n",
       "        vertical-align: top;\n",
       "    }\n",
       "\n",
       "    .dataframe thead th {\n",
       "        text-align: right;\n",
       "    }\n",
       "</style>\n",
       "<table border=\"1\" class=\"dataframe\">\n",
       "  <thead>\n",
       "    <tr style=\"text-align: right;\">\n",
       "      <th></th>\n",
       "      <th>DEPTH</th>\n",
       "      <th>GR</th>\n",
       "      <th>DT</th>\n",
       "      <th>RHOB</th>\n",
       "      <th>DRHO</th>\n",
       "      <th>NPHI</th>\n",
       "    </tr>\n",
       "  </thead>\n",
       "  <tbody>\n",
       "    <tr>\n",
       "      <th>count</th>\n",
       "      <td>1921.000000</td>\n",
       "      <td>1921.000000</td>\n",
       "      <td>1918.000000</td>\n",
       "      <td>1921.000000</td>\n",
       "      <td>1921.000000</td>\n",
       "      <td>1921.000000</td>\n",
       "    </tr>\n",
       "    <tr>\n",
       "      <th>mean</th>\n",
       "      <td>4705.800425</td>\n",
       "      <td>67.543849</td>\n",
       "      <td>67.398183</td>\n",
       "      <td>2.554064</td>\n",
       "      <td>0.020477</td>\n",
       "      <td>0.114056</td>\n",
       "    </tr>\n",
       "    <tr>\n",
       "      <th>std</th>\n",
       "      <td>55.468658</td>\n",
       "      <td>31.455753</td>\n",
       "      <td>4.525434</td>\n",
       "      <td>0.121438</td>\n",
       "      <td>0.045450</td>\n",
       "      <td>0.039322</td>\n",
       "    </tr>\n",
       "    <tr>\n",
       "      <th>min</th>\n",
       "      <td>4609.800800</td>\n",
       "      <td>19.605911</td>\n",
       "      <td>54.929482</td>\n",
       "      <td>1.947107</td>\n",
       "      <td>-0.132031</td>\n",
       "      <td>0.033476</td>\n",
       "    </tr>\n",
       "    <tr>\n",
       "      <th>25%</th>\n",
       "      <td>4657.800600</td>\n",
       "      <td>38.902794</td>\n",
       "      <td>64.324596</td>\n",
       "      <td>2.495097</td>\n",
       "      <td>-0.012742</td>\n",
       "      <td>0.092152</td>\n",
       "    </tr>\n",
       "    <tr>\n",
       "      <th>50%</th>\n",
       "      <td>4705.800400</td>\n",
       "      <td>63.487732</td>\n",
       "      <td>67.392708</td>\n",
       "      <td>2.557842</td>\n",
       "      <td>0.006896</td>\n",
       "      <td>0.111190</td>\n",
       "    </tr>\n",
       "    <tr>\n",
       "      <th>75%</th>\n",
       "      <td>4753.800200</td>\n",
       "      <td>95.923019</td>\n",
       "      <td>70.078076</td>\n",
       "      <td>2.647077</td>\n",
       "      <td>0.054896</td>\n",
       "      <td>0.128894</td>\n",
       "    </tr>\n",
       "    <tr>\n",
       "      <th>max</th>\n",
       "      <td>4801.800000</td>\n",
       "      <td>137.462921</td>\n",
       "      <td>89.620895</td>\n",
       "      <td>2.788836</td>\n",
       "      <td>0.134148</td>\n",
       "      <td>0.417384</td>\n",
       "    </tr>\n",
       "  </tbody>\n",
       "</table>\n",
       "</div>"
      ],
      "text/plain": [
       "             DEPTH           GR           DT         RHOB         DRHO  \\\n",
       "count  1921.000000  1921.000000  1918.000000  1921.000000  1921.000000   \n",
       "mean   4705.800425    67.543849    67.398183     2.554064     0.020477   \n",
       "std      55.468658    31.455753     4.525434     0.121438     0.045450   \n",
       "min    4609.800800    19.605911    54.929482     1.947107    -0.132031   \n",
       "25%    4657.800600    38.902794    64.324596     2.495097    -0.012742   \n",
       "50%    4705.800400    63.487732    67.392708     2.557842     0.006896   \n",
       "75%    4753.800200    95.923019    70.078076     2.647077     0.054896   \n",
       "max    4801.800000   137.462921    89.620895     2.788836     0.134148   \n",
       "\n",
       "              NPHI  \n",
       "count  1921.000000  \n",
       "mean      0.114056  \n",
       "std       0.039322  \n",
       "min       0.033476  \n",
       "25%       0.092152  \n",
       "50%       0.111190  \n",
       "75%       0.128894  \n",
       "max       0.417384  "
      ]
     },
     "execution_count": 6,
     "metadata": {},
     "output_type": "execute_result"
    }
   ],
   "source": [
    "well.describe()"
   ]
  },
  {
   "cell_type": "code",
   "execution_count": 7,
   "metadata": {},
   "outputs": [
    {
     "data": {
      "text/html": [
       "<div>\n",
       "<style scoped>\n",
       "    .dataframe tbody tr th:only-of-type {\n",
       "        vertical-align: middle;\n",
       "    }\n",
       "\n",
       "    .dataframe tbody tr th {\n",
       "        vertical-align: top;\n",
       "    }\n",
       "\n",
       "    .dataframe thead th {\n",
       "        text-align: right;\n",
       "    }\n",
       "</style>\n",
       "<table border=\"1\" class=\"dataframe\">\n",
       "  <thead>\n",
       "    <tr style=\"text-align: right;\">\n",
       "      <th></th>\n",
       "      <th>DEPTH</th>\n",
       "      <th>GR</th>\n",
       "      <th>DT</th>\n",
       "      <th>RHOB</th>\n",
       "      <th>DRHO</th>\n",
       "      <th>NPHI</th>\n",
       "    </tr>\n",
       "  </thead>\n",
       "  <tbody>\n",
       "    <tr>\n",
       "      <th>0</th>\n",
       "      <td>4609.8008</td>\n",
       "      <td>89.059479</td>\n",
       "      <td>NaN</td>\n",
       "      <td>2.483700</td>\n",
       "      <td>0.018494</td>\n",
       "      <td>0.129119</td>\n",
       "    </tr>\n",
       "    <tr>\n",
       "      <th>1</th>\n",
       "      <td>4609.9008</td>\n",
       "      <td>90.721848</td>\n",
       "      <td>NaN</td>\n",
       "      <td>2.489308</td>\n",
       "      <td>0.013656</td>\n",
       "      <td>0.108034</td>\n",
       "    </tr>\n",
       "    <tr>\n",
       "      <th>2</th>\n",
       "      <td>4610.0008</td>\n",
       "      <td>90.709061</td>\n",
       "      <td>NaN</td>\n",
       "      <td>2.501088</td>\n",
       "      <td>0.011289</td>\n",
       "      <td>0.085650</td>\n",
       "    </tr>\n",
       "    <tr>\n",
       "      <th>3</th>\n",
       "      <td>4610.1008</td>\n",
       "      <td>89.568954</td>\n",
       "      <td>66.223099</td>\n",
       "      <td>2.515450</td>\n",
       "      <td>0.008615</td>\n",
       "      <td>0.070332</td>\n",
       "    </tr>\n",
       "    <tr>\n",
       "      <th>4</th>\n",
       "      <td>4610.2008</td>\n",
       "      <td>88.169571</td>\n",
       "      <td>66.705551</td>\n",
       "      <td>2.530982</td>\n",
       "      <td>0.005628</td>\n",
       "      <td>0.065343</td>\n",
       "    </tr>\n",
       "  </tbody>\n",
       "</table>\n",
       "</div>"
      ],
      "text/plain": [
       "       DEPTH         GR         DT      RHOB      DRHO      NPHI\n",
       "0  4609.8008  89.059479        NaN  2.483700  0.018494  0.129119\n",
       "1  4609.9008  90.721848        NaN  2.489308  0.013656  0.108034\n",
       "2  4610.0008  90.709061        NaN  2.501088  0.011289  0.085650\n",
       "3  4610.1008  89.568954  66.223099  2.515450  0.008615  0.070332\n",
       "4  4610.2008  88.169571  66.705551  2.530982  0.005628  0.065343"
      ]
     },
     "execution_count": 7,
     "metadata": {},
     "output_type": "execute_result"
    }
   ],
   "source": [
    "well.head()"
   ]
  },
  {
   "cell_type": "markdown",
   "metadata": {},
   "source": [
    "By default, the well.head() function produces the first 5 rows of data. We can extend this by passing in a value to the head function."
   ]
  },
  {
   "cell_type": "code",
   "execution_count": 8,
   "metadata": {},
   "outputs": [
    {
     "data": {
      "text/html": [
       "<div>\n",
       "<style scoped>\n",
       "    .dataframe tbody tr th:only-of-type {\n",
       "        vertical-align: middle;\n",
       "    }\n",
       "\n",
       "    .dataframe tbody tr th {\n",
       "        vertical-align: top;\n",
       "    }\n",
       "\n",
       "    .dataframe thead th {\n",
       "        text-align: right;\n",
       "    }\n",
       "</style>\n",
       "<table border=\"1\" class=\"dataframe\">\n",
       "  <thead>\n",
       "    <tr style=\"text-align: right;\">\n",
       "      <th></th>\n",
       "      <th>DEPTH</th>\n",
       "      <th>GR</th>\n",
       "      <th>DT</th>\n",
       "      <th>RHOB</th>\n",
       "      <th>DRHO</th>\n",
       "      <th>NPHI</th>\n",
       "    </tr>\n",
       "  </thead>\n",
       "  <tbody>\n",
       "    <tr>\n",
       "      <th>0</th>\n",
       "      <td>4609.8008</td>\n",
       "      <td>89.059479</td>\n",
       "      <td>NaN</td>\n",
       "      <td>2.483700</td>\n",
       "      <td>0.018494</td>\n",
       "      <td>0.129119</td>\n",
       "    </tr>\n",
       "    <tr>\n",
       "      <th>1</th>\n",
       "      <td>4609.9008</td>\n",
       "      <td>90.721848</td>\n",
       "      <td>NaN</td>\n",
       "      <td>2.489308</td>\n",
       "      <td>0.013656</td>\n",
       "      <td>0.108034</td>\n",
       "    </tr>\n",
       "    <tr>\n",
       "      <th>2</th>\n",
       "      <td>4610.0008</td>\n",
       "      <td>90.709061</td>\n",
       "      <td>NaN</td>\n",
       "      <td>2.501088</td>\n",
       "      <td>0.011289</td>\n",
       "      <td>0.085650</td>\n",
       "    </tr>\n",
       "    <tr>\n",
       "      <th>3</th>\n",
       "      <td>4610.1008</td>\n",
       "      <td>89.568954</td>\n",
       "      <td>66.223099</td>\n",
       "      <td>2.515450</td>\n",
       "      <td>0.008615</td>\n",
       "      <td>0.070332</td>\n",
       "    </tr>\n",
       "    <tr>\n",
       "      <th>4</th>\n",
       "      <td>4610.2008</td>\n",
       "      <td>88.169571</td>\n",
       "      <td>66.705551</td>\n",
       "      <td>2.530982</td>\n",
       "      <td>0.005628</td>\n",
       "      <td>0.065343</td>\n",
       "    </tr>\n",
       "    <tr>\n",
       "      <th>5</th>\n",
       "      <td>4610.3008</td>\n",
       "      <td>86.943130</td>\n",
       "      <td>67.237823</td>\n",
       "      <td>2.543377</td>\n",
       "      <td>0.001724</td>\n",
       "      <td>0.066881</td>\n",
       "    </tr>\n",
       "    <tr>\n",
       "      <th>6</th>\n",
       "      <td>4610.4008</td>\n",
       "      <td>86.172943</td>\n",
       "      <td>67.531052</td>\n",
       "      <td>2.550319</td>\n",
       "      <td>-0.002829</td>\n",
       "      <td>0.067540</td>\n",
       "    </tr>\n",
       "    <tr>\n",
       "      <th>7</th>\n",
       "      <td>4610.5008</td>\n",
       "      <td>86.267899</td>\n",
       "      <td>68.183243</td>\n",
       "      <td>2.555398</td>\n",
       "      <td>-0.006574</td>\n",
       "      <td>0.065946</td>\n",
       "    </tr>\n",
       "    <tr>\n",
       "      <th>8</th>\n",
       "      <td>4610.6008</td>\n",
       "      <td>87.750702</td>\n",
       "      <td>68.546539</td>\n",
       "      <td>2.564067</td>\n",
       "      <td>-0.008947</td>\n",
       "      <td>0.063870</td>\n",
       "    </tr>\n",
       "    <tr>\n",
       "      <th>9</th>\n",
       "      <td>4610.7008</td>\n",
       "      <td>90.922546</td>\n",
       "      <td>68.219681</td>\n",
       "      <td>2.578216</td>\n",
       "      <td>-0.010293</td>\n",
       "      <td>0.063689</td>\n",
       "    </tr>\n",
       "    <tr>\n",
       "      <th>10</th>\n",
       "      <td>4610.8008</td>\n",
       "      <td>96.706329</td>\n",
       "      <td>68.100571</td>\n",
       "      <td>2.594251</td>\n",
       "      <td>-0.010780</td>\n",
       "      <td>0.065422</td>\n",
       "    </tr>\n",
       "    <tr>\n",
       "      <th>11</th>\n",
       "      <td>4610.9008</td>\n",
       "      <td>103.944885</td>\n",
       "      <td>67.189743</td>\n",
       "      <td>2.609079</td>\n",
       "      <td>-0.010619</td>\n",
       "      <td>0.066976</td>\n",
       "    </tr>\n",
       "    <tr>\n",
       "      <th>12</th>\n",
       "      <td>4611.0008</td>\n",
       "      <td>110.541641</td>\n",
       "      <td>65.228973</td>\n",
       "      <td>2.620780</td>\n",
       "      <td>-0.010406</td>\n",
       "      <td>0.067302</td>\n",
       "    </tr>\n",
       "    <tr>\n",
       "      <th>13</th>\n",
       "      <td>4611.1008</td>\n",
       "      <td>114.522415</td>\n",
       "      <td>65.447815</td>\n",
       "      <td>2.625953</td>\n",
       "      <td>-0.011523</td>\n",
       "      <td>0.069457</td>\n",
       "    </tr>\n",
       "    <tr>\n",
       "      <th>14</th>\n",
       "      <td>4611.2008</td>\n",
       "      <td>114.972168</td>\n",
       "      <td>66.802185</td>\n",
       "      <td>2.627867</td>\n",
       "      <td>-0.013730</td>\n",
       "      <td>0.072726</td>\n",
       "    </tr>\n",
       "    <tr>\n",
       "      <th>15</th>\n",
       "      <td>4611.3008</td>\n",
       "      <td>112.531113</td>\n",
       "      <td>67.011368</td>\n",
       "      <td>2.630867</td>\n",
       "      <td>-0.016134</td>\n",
       "      <td>0.074935</td>\n",
       "    </tr>\n",
       "    <tr>\n",
       "      <th>16</th>\n",
       "      <td>4611.4008</td>\n",
       "      <td>107.224686</td>\n",
       "      <td>66.704330</td>\n",
       "      <td>2.632452</td>\n",
       "      <td>-0.018843</td>\n",
       "      <td>0.074907</td>\n",
       "    </tr>\n",
       "    <tr>\n",
       "      <th>17</th>\n",
       "      <td>4611.5008</td>\n",
       "      <td>100.468719</td>\n",
       "      <td>66.549988</td>\n",
       "      <td>2.631668</td>\n",
       "      <td>-0.021676</td>\n",
       "      <td>0.072669</td>\n",
       "    </tr>\n",
       "    <tr>\n",
       "      <th>18</th>\n",
       "      <td>4611.6008</td>\n",
       "      <td>93.338989</td>\n",
       "      <td>66.679886</td>\n",
       "      <td>2.629122</td>\n",
       "      <td>-0.024517</td>\n",
       "      <td>0.069173</td>\n",
       "    </tr>\n",
       "    <tr>\n",
       "      <th>19</th>\n",
       "      <td>4611.7008</td>\n",
       "      <td>86.763000</td>\n",
       "      <td>66.032547</td>\n",
       "      <td>2.625657</td>\n",
       "      <td>-0.027334</td>\n",
       "      <td>0.067728</td>\n",
       "    </tr>\n",
       "  </tbody>\n",
       "</table>\n",
       "</div>"
      ],
      "text/plain": [
       "        DEPTH          GR         DT      RHOB      DRHO      NPHI\n",
       "0   4609.8008   89.059479        NaN  2.483700  0.018494  0.129119\n",
       "1   4609.9008   90.721848        NaN  2.489308  0.013656  0.108034\n",
       "2   4610.0008   90.709061        NaN  2.501088  0.011289  0.085650\n",
       "3   4610.1008   89.568954  66.223099  2.515450  0.008615  0.070332\n",
       "4   4610.2008   88.169571  66.705551  2.530982  0.005628  0.065343\n",
       "5   4610.3008   86.943130  67.237823  2.543377  0.001724  0.066881\n",
       "6   4610.4008   86.172943  67.531052  2.550319 -0.002829  0.067540\n",
       "7   4610.5008   86.267899  68.183243  2.555398 -0.006574  0.065946\n",
       "8   4610.6008   87.750702  68.546539  2.564067 -0.008947  0.063870\n",
       "9   4610.7008   90.922546  68.219681  2.578216 -0.010293  0.063689\n",
       "10  4610.8008   96.706329  68.100571  2.594251 -0.010780  0.065422\n",
       "11  4610.9008  103.944885  67.189743  2.609079 -0.010619  0.066976\n",
       "12  4611.0008  110.541641  65.228973  2.620780 -0.010406  0.067302\n",
       "13  4611.1008  114.522415  65.447815  2.625953 -0.011523  0.069457\n",
       "14  4611.2008  114.972168  66.802185  2.627867 -0.013730  0.072726\n",
       "15  4611.3008  112.531113  67.011368  2.630867 -0.016134  0.074935\n",
       "16  4611.4008  107.224686  66.704330  2.632452 -0.018843  0.074907\n",
       "17  4611.5008  100.468719  66.549988  2.631668 -0.021676  0.072669\n",
       "18  4611.6008   93.338989  66.679886  2.629122 -0.024517  0.069173\n",
       "19  4611.7008   86.763000  66.032547  2.625657 -0.027334  0.067728"
      ]
     },
     "execution_count": 8,
     "metadata": {},
     "output_type": "execute_result"
    }
   ],
   "source": [
    "well.head(20)"
   ]
  },
  {
   "cell_type": "markdown",
   "metadata": {},
   "source": [
    "Now we have some data appearing in the GR column."
   ]
  },
  {
   "cell_type": "markdown",
   "metadata": {},
   "source": [
    "### Viewing Data on a Log Plot"
   ]
  },
  {
   "cell_type": "markdown",
   "metadata": {},
   "source": [
    "With pandas, we can quickly bring up a plot of our well data by using the .plot() function on our well dataframe. <br><br>If we just specify the x and y axis, we can generate a simple line plot."
   ]
  },
  {
   "cell_type": "code",
   "execution_count": 7,
   "metadata": {},
   "outputs": [
    {
     "data": {
      "text/plain": [
       "(1921, 6)"
      ]
     },
     "execution_count": 7,
     "metadata": {},
     "output_type": "execute_result"
    }
   ],
   "source": [
    "well.shape"
   ]
  },
  {
   "cell_type": "code",
   "execution_count": 12,
   "metadata": {},
   "outputs": [
    {
     "data": {
      "text/plain": [
       "<AxesSubplot:xlabel='GR'>"
      ]
     },
     "execution_count": 12,
     "metadata": {},
     "output_type": "execute_result"
    },
    {
     "data": {
      "image/png": "[encoded data removed]",
      "text/plain": [
       "<Figure size 432x288 with 1 Axes>"
      ]
     },
     "metadata": {
      "needs_background": "light"
     },
     "output_type": "display_data"
    }
   ],
   "source": [
    "well.plot(x='GR', y='DEPTH')"
   ]
  },
  {
   "cell_type": "code",
   "execution_count": 9,
   "metadata": {},
   "outputs": [
    {
     "data": {
      "text/plain": [
       "<AxesSubplot:xlabel='DEPTH'>"
      ]
     },
     "execution_count": 9,
     "metadata": {},
     "output_type": "execute_result"
    },
    {
     "data": {
      "image/png": "[encoded data removed]",
      "text/plain": [
       "<Figure size 432x288 with 1 Axes>"
      ]
     },
     "metadata": {
      "needs_background": "light"
     },
     "output_type": "display_data"
    }
   ],
   "source": [
    "well.plot(x = 'DEPTH', y = 'GR')"
   ]
  },
  {
   "cell_type": "markdown",
   "metadata": {},
   "source": [
    "We can change the type of plot by using the keyword kind and passing in the word scatter. In this example we have a familiar density neutron crossplot. <b>Note</b> that we can change the y-axis scales so that they are flipped and show increasing porosity as you move up the axis."
   ]
  },
  {
   "cell_type": "code",
   "execution_count": 10,
   "metadata": {},
   "outputs": [
    {
     "data": {
      "text/plain": [
       "<AxesSubplot:xlabel='NPHI', ylabel='RHOB'>"
      ]
     },
     "execution_count": 10,
     "metadata": {},
     "output_type": "execute_result"
    },
    {
     "data": {
      "image/png": "[encoded data removed]",
      "text/plain": [
       "<Figure size 432x288 with 1 Axes>"
      ]
     },
     "metadata": {
      "needs_background": "light"
     },
     "output_type": "display_data"
    }
   ],
   "source": [
    "well.plot(kind = 'scatter', x = 'NPHI', y = 'RHOB', ylim=(3, 2))"
   ]
  },
  {
   "cell_type": "markdown",
   "metadata": {},
   "source": [
    "We can also add some colour to our plot using the gamma ray as a third axis. This is done by including the c argument and specifying the column name. <br><br>\n",
    "This helps us identify the cleaner intervals from shalier intervals"
   ]
  },
  {
   "cell_type": "code",
   "execution_count": 14,
   "metadata": {},
   "outputs": [
    {
     "data": {
      "text/plain": [
       "<AxesSubplot:xlabel='NPHI', ylabel='RHOB'>"
      ]
     },
     "execution_count": 14,
     "metadata": {},
     "output_type": "execute_result"
    },
    {
     "data": {
      "image/png": "[encoded data removed]",
      "text/plain": [
       "<Figure size 432x288 with 2 Axes>"
      ]
     },
     "metadata": {
      "needs_background": "light"
     },
     "output_type": "display_data"
    }
   ],
   "source": [
    "well.plot(kind = 'scatter', x = 'NPHI', y = 'RHOB', c='GR', \n",
    "          colormap='jet', \n",
    "          ylim=(3, 2))"
   ]
  },
  {
   "cell_type": "markdown",
   "metadata": {},
   "source": [
    "Data can also be easily displayed as a histogram in the form of bars:"
   ]
  },
  {
   "cell_type": "code",
   "execution_count": 15,
   "metadata": {},
   "outputs": [
    {
     "data": {
      "text/plain": [
       "<AxesSubplot:ylabel='Frequency'>"
      ]
     },
     "execution_count": 15,
     "metadata": {},
     "output_type": "execute_result"
    },
    {
     "data": {
      "image/png": "[encoded data removed]",
      "text/plain": [
       "<Figure size 432x288 with 1 Axes>"
      ]
     },
     "metadata": {
      "needs_background": "light"
     },
     "output_type": "display_data"
    }
   ],
   "source": [
    "well['GR'].plot(kind=\"hist\", bins = 30)"
   ]
  },
  {
   "cell_type": "markdown",
   "metadata": {},
   "source": [
    "Or using a Kernel Density Estimate:"
   ]
  },
  {
   "cell_type": "code",
   "execution_count": 13,
   "metadata": {},
   "outputs": [
    {
     "data": {
      "text/plain": [
       "<AxesSubplot:ylabel='Density'>"
      ]
     },
     "execution_count": 13,
     "metadata": {},
     "output_type": "execute_result"
    },
    {
     "data": {
      "image/png": "[encoded data removed]",
      "text/plain": [
       "<Figure size 432x288 with 1 Axes>"
      ]
     },
     "metadata": {
      "needs_background": "light"
     },
     "output_type": "display_data"
    }
   ],
   "source": [
    "well['GR'].plot(kind=\"kde\", xlim =(0,200))"
   ]
  },
  {
   "cell_type": "markdown",
   "metadata": {},
   "source": [
    "That is all for this short tutorial. In the next one we will take our plotting to the next level and construct the familiar log plot using matplotlib."
   ]
  }
 ],
 "metadata": {
  "kernelspec": {
   "display_name": "Python 3 (ipykernel)",
   "language": "python",
   "name": "python3"
  },
  "language_info": {
   "codemirror_mode": {
    "name": "ipython",
    "version": 3
   },
   "file_extension": ".py",
   "mimetype": "text/x-python",
   "name": "python",
   "nbconvert_exporter": "python",
   "pygments_lexer": "ipython3",
   "version": "3.8.5"
  }
 },
 "nbformat": 4,
 "nbformat_minor": 4
}
